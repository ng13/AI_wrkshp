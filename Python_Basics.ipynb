{
  "nbformat": 4,
  "nbformat_minor": 0,
  "metadata": {
    "colab": {
      "provenance": [],
      "collapsed_sections": [
        "fWuFzGNxlHwk",
        "p_GWbY3GlHw0",
        "thGRrCYQlHxJ",
        "t_nuUdCtlHxP"
      ],
      "include_colab_link": true
    },
    "language_info": {
      "mimetype": "text/x-python",
      "nbconvert_exporter": "python",
      "name": "python",
      "pygments_lexer": "ipython3",
      "version": "3.5.4",
      "file_extension": ".py",
      "codemirror_mode": {
        "version": 3,
        "name": "ipython"
      }
    },
    "kernelspec": {
      "name": "python3",
      "display_name": "Python 3",
      "language": "python"
    }
  },
  "cells": [
    {
      "cell_type": "markdown",
      "metadata": {
        "id": "view-in-github",
        "colab_type": "text"
      },
      "source": [
        "<a href=\"https://colab.research.google.com/github/ng13/AI_wrkshp/blob/main/Python_Basics.ipynb\" target=\"_parent\"><img src=\"https://colab.research.google.com/assets/colab-badge.svg\" alt=\"Open In Colab\"/></a>"
      ]
    },
    {
      "cell_type": "markdown",
      "metadata": {
        "id": "u3m18V7olHum"
      },
      "source": [
        "# Python Basics"
      ]
    },
    {
      "cell_type": "code",
      "metadata": {
        "trusted": true,
        "id": "XTf2iVTelHur",
        "colab": {
          "base_uri": "https://localhost:8080/"
        },
        "outputId": "f33c840a-38e0-49bc-9e11-8aa8cb9be2c2"
      },
      "source": [
        "# Printing a string\n",
        "print(\"Hello, Python! All\")\n"
      ],
      "execution_count": null,
      "outputs": [
        {
          "output_type": "stream",
          "name": "stdout",
          "text": [
            "Hello, Python! All\n"
          ]
        }
      ]
    },
    {
      "cell_type": "markdown",
      "metadata": {
        "id": "fNFQq74alHu-"
      },
      "source": [
        "### Variables"
      ]
    },
    {
      "cell_type": "code",
      "metadata": {
        "trusted": true,
        "id": "BHkJcYyalHvB",
        "colab": {
          "base_uri": "https://localhost:8080/"
        },
        "outputId": "47d28dbc-665b-42e7-b509-99fcbc6d430f"
      },
      "source": [
        "# defining a variable : In Python there is no need to mention the data type\n",
        "\n",
        "var1 = 10      # An integer assignment\n",
        "var2 = 3.2222   # A floating point\n",
        "var3 = \"Hello\" # A string\n",
        "\n",
        "print(var1,' ',var2,' ',var3)\n",
        "print(type(var1),' ',type(var2),' ',type(var3))\n",
        "\n",
        "var3 = 10\n",
        "print(type(var1),' ',type(var2),' ',type(var3))"
      ],
      "execution_count": null,
      "outputs": [
        {
          "output_type": "stream",
          "name": "stdout",
          "text": [
            "10   3.2222   Hello\n",
            "<class 'int'>   <class 'float'>   <class 'str'>\n",
            "<class 'int'>   <class 'float'>   <class 'int'>\n"
          ]
        }
      ]
    },
    {
      "cell_type": "code",
      "metadata": {
        "id": "8oP5eNbcLCBZ",
        "colab": {
          "base_uri": "https://localhost:8080/",
          "height": 86
        },
        "outputId": "563a3983-123c-4b52-a650-78c1063dd589"
      },
      "source": [
        "print(type(var1))\n",
        "print(type(var2))\n",
        "print(type(var3))\n",
        "\n",
        "var1=\"hello\"\n",
        "print(type(var1))"
      ],
      "execution_count": null,
      "outputs": [
        {
          "output_type": "stream",
          "text": [
            "<class 'int'>\n",
            "<class 'float'>\n",
            "<class 'str'>\n",
            "<class 'str'>\n"
          ],
          "name": "stdout"
        }
      ]
    },
    {
      "cell_type": "code",
      "metadata": {
        "trusted": true,
        "id": "a_-6wyi1lHvM",
        "colab": {
          "base_uri": "https://localhost:8080/"
        },
        "outputId": "f1e5f65b-0f4d-4d65-acda-cc7862e705f5"
      },
      "source": [
        "pi = 3.14\n",
        "print (\"Value of Pi is\",pi)"
      ],
      "execution_count": null,
      "outputs": [
        {
          "output_type": "stream",
          "name": "stdout",
          "text": [
            "Value of Pi is 3.14\n"
          ]
        }
      ]
    },
    {
      "cell_type": "markdown",
      "metadata": {
        "id": "h2rfGxbZlHvW"
      },
      "source": [
        "### Assignment"
      ]
    },
    {
      "cell_type": "code",
      "metadata": {
        "trusted": true,
        "id": "Hh37cVD_lHvY",
        "colab": {
          "base_uri": "https://localhost:8080/"
        },
        "outputId": "4383fe0c-3660-4f2d-f6ee-5aa3c7d391ed"
      },
      "source": [
        "# Assigning same value to multiple variables\n",
        "\n",
        "var1 = var2 = var3 = 1\n",
        "print(var1,' ',var2,' ',var3)\n",
        "\n",
        "# Assigning Different values to variable in a single expression\n",
        "\n",
        "var1, var2, var3 = 1, 2.5, \"john\"\n",
        "print(var1,' ',var2,' ',var3)\n",
        "\n",
        "# Note: commas can be used for multi-assignments"
      ],
      "execution_count": null,
      "outputs": [
        {
          "output_type": "stream",
          "name": "stdout",
          "text": [
            "1   1   1\n",
            "1   2.5   john\n"
          ]
        }
      ]
    },
    {
      "cell_type": "markdown",
      "source": [
        "User input"
      ],
      "metadata": {
        "id": "JapN4tfzpiX8"
      }
    },
    {
      "cell_type": "code",
      "source": [
        "org= input(\"enter your oragnization\")\n",
        "print(\"your organization is -\",org)"
      ],
      "metadata": {
        "colab": {
          "base_uri": "https://localhost:8080/"
        },
        "id": "duhY1-Hmpg7W",
        "outputId": "30e538dc-adec-4d8a-ad31-9b07a793ed74"
      },
      "execution_count": null,
      "outputs": [
        {
          "output_type": "stream",
          "name": "stdout",
          "text": [
            "enter your oragnizationBU\n",
            "your organization is - BU\n"
          ]
        }
      ]
    },
    {
      "cell_type": "markdown",
      "source": [
        "Take input from user and calculate square root of the input."
      ],
      "metadata": {
        "id": "HfY9rEtdqw4d"
      }
    },
    {
      "cell_type": "code",
      "source": [
        "no= int(input(\"Enter a number\"))\n",
        "print(no)\n",
        "#no= int(no)\n",
        "print(\"Square root of the no is -\", no**0.5)"
      ],
      "metadata": {
        "colab": {
          "base_uri": "https://localhost:8080/"
        },
        "id": "kWLiJulnq7YJ",
        "outputId": "1dced401-092d-4177-b839-dea2ae0be561"
      },
      "execution_count": null,
      "outputs": [
        {
          "output_type": "stream",
          "name": "stdout",
          "text": [
            "Enter a number5\n",
            "5\n",
            "Square root of the no is - 2.23606797749979\n"
          ]
        }
      ]
    },
    {
      "cell_type": "markdown",
      "metadata": {
        "id": "nEVGP_WMlHvf"
      },
      "source": [
        "### Slicing"
      ]
    },
    {
      "cell_type": "code",
      "metadata": {
        "trusted": true,
        "id": "-9DoETn4lHvh",
        "colab": {
          "base_uri": "https://localhost:8080/"
        },
        "outputId": "4f741ef4-6d65-4671-e8ff-dd2aa062602a"
      },
      "source": [
        "# String operations\n",
        "\n",
        "str = 'Hello World!'  # A string\n",
        "lenth=len(str)\n",
        "print(str[lenth-2:lenth])\n",
        "print(str)          # Prints complete string\n",
        "print(str[0])       # Prints first character of the string\n",
        "print(str[2:5])     # Prints characters starting from 3rd to 5th element\n",
        "print(str[2:])      # Prints string starting from 3rd character\n",
        "print(str[:2])\n",
        "print(str * 2)# Prints string two times\n",
        "str1 =str*10\n",
        "print(str1)\n",
        "print(str + \"TEST\") # Prints concatenated string"
      ],
      "execution_count": null,
      "outputs": [
        {
          "output_type": "stream",
          "name": "stdout",
          "text": [
            "d!\n",
            "Hello World!\n",
            "H\n",
            "llo\n",
            "llo World!\n",
            "He\n",
            "Hello World!Hello World!\n",
            "Hello World!Hello World!Hello World!Hello World!Hello World!Hello World!Hello World!Hello World!Hello World!Hello World!\n",
            "Hello World!TEST\n"
          ]
        }
      ]
    },
    {
      "cell_type": "code",
      "source": [
        "list ="
      ],
      "metadata": {
        "id": "69bT9FLhG8nw"
      },
      "execution_count": null,
      "outputs": []
    },
    {
      "cell_type": "markdown",
      "metadata": {
        "id": "1aTnt-EwlHvp"
      },
      "source": [
        "### Data types"
      ]
    },
    {
      "cell_type": "code",
      "metadata": {
        "trusted": true,
        "id": "NGDBMEK4lHvq",
        "colab": {
          "base_uri": "https://localhost:8080/"
        },
        "outputId": "57399ceb-a939-45b1-b23b-424b05203da2"
      },
      "source": [
        "# Python Lists\n",
        "list = [ 'abcd', 786 , 2.23, 'john', 70.2 ]  # A list\n",
        "tuple = ( 'abcd', 786 , 2.23, 'john', 70.2  ) # A tuple. Tuples are immutable, i.e. cannot be edit later\n",
        "\n",
        "print(list[:3])            # Prints complete list\n",
        "print(list[3][1])         # Prints first element of the list\n",
        "print(tuple[1:3])        # Prints elements starting from 2nd till 3rd"
      ],
      "execution_count": null,
      "outputs": [
        {
          "output_type": "stream",
          "name": "stdout",
          "text": [
            "['abcd', 786, 2.23]\n",
            "o\n",
            "(786, 2.23)\n"
          ]
        }
      ]
    },
    {
      "cell_type": "code",
      "source": [
        "print(list[0][2])"
      ],
      "metadata": {
        "colab": {
          "base_uri": "https://localhost:8080/"
        },
        "id": "yIWuNEymHAij",
        "outputId": "e73b744d-8969-4e9a-af3f-4e7b094223f5"
      },
      "execution_count": null,
      "outputs": [
        {
          "output_type": "stream",
          "name": "stdout",
          "text": [
            "c\n"
          ]
        }
      ]
    },
    {
      "cell_type": "code",
      "metadata": {
        "trusted": true,
        "id": "WEKSoWAnlHvx",
        "colab": {
          "base_uri": "https://localhost:8080/"
        },
        "outputId": "d4b59587-63f7-4238-8406-f7b143dc1236"
      },
      "source": [
        "# Lists are ordered sets of objects, whereas dictionaries are unordered sets. But the main difference is that items in dictionaries are accessed via keys and not via their position.\n",
        "tel = {'jack': 4098, 'sape': 4139}\n",
        "tel['jack'] = 4127\n",
        "print(tel)\n",
        "print(tel['jack'])\n",
        "del tel['sape']\n",
        "tel['irv'] = 4127\n",
        "print(tel)\n",
        "print(tel.keys())\n",
        "print(sorted(tel.keys()))\n",
        "print(sorted(tel.values()))\n",
        "print('guido' in tel)\n",
        "print('jack2' not in tel)\n"
      ],
      "execution_count": null,
      "outputs": [
        {
          "output_type": "stream",
          "name": "stdout",
          "text": [
            "{'jack': 4127, 'sape': 4139}\n",
            "4127\n",
            "{'jack': 4127, 'irv': 4127}\n",
            "dict_keys(['jack', 'irv'])\n",
            "['irv', 'jack']\n",
            "[4127, 4127]\n",
            "False\n",
            "True\n"
          ]
        }
      ]
    },
    {
      "cell_type": "markdown",
      "metadata": {
        "id": "YoVvMD28lHv5"
      },
      "source": [
        "###  Conditioning and looping"
      ]
    },
    {
      "cell_type": "markdown",
      "source": [
        "Condition\n",
        "\n",
        "![image.png](data:image/png;base64,iVBORw0KGgoAAAANSUhEUgAAAeEAAAEGCAIAAADdabpjAAAgAElEQVR4nO3df1xT970/8BcqnBTExJYfmbgS3AZpYSbsrpA7aQl1lUjtiO6uwdVq9GpJfxJtvxNuu47+WIl3VtPVXtHblqjtTLrbEndRgq0SV5gRekdwWiN2EtdSI7ASpWgS1Hz/AIEEkIBijvh+PvgDks/5nM/nQF45fM7nkxPi9XpBCCGElSYFuwGEEEKGRRlNCCHsRRlNCCHsRRlNCCHsRRlNCCHsRRlNCCHsRRlNCCHsRRlNCCHsRRlNCCHsRRlNCCHsRRlNCCHsRRlNCCHsRRlNCCHsRRlNCCHsRRlNCCHsRRlNCCHsRRlNCCHsRRlNCCHsRRlNCCHsRRlNCCHsRRlNCCHsRRlNCCHsRRlNCCHsRRlNCCHsRRlNCCHsRRlNCCHsRRlNCCHsRRlNCCHsRRlNCCHsNSXYDWCVy2dU9oNbLiM7Smbica5S0OX+SvvN3/Wub+2Xus8CTMgk3iSOhJdunM69YY0lhNwCKKPHoLtZ3tJYdRkICU0K5YpDJsHb7fR2Oy9dCnbLCCETTIjX6w12G1ik237hrP0y+EyUcPh3L1v7J2Lnt5hyp2nmj6T0JkcIGUc0Hu0jVHBblDTiagENwN7tdgPCiO+Na0C7HBa9Jk+qMrnGcSfXnVktzSvUme03VaMJYTHKaMDeUc35whgy4EvmHJwx3fqW3mfnd3UDaDxbHeKz1V71hevSHJfdrFPLxQLBvy4uMlj9GuKw6NR5UiGfx+FweHyBWKbUGG0+ZRzGPEFISIggz+jwq9ihl/NDQkIEyr5nrIXCkJAQcaEVTqtOJRP3VCsQy9Q6i9Nva6dOxgkJ4StNLgBOS6mqvxVCqcba13qbYd3yrAS+WK4uNQUc1dZCcUhISEiIQG0JcAtCbhVe0tF5WNFS2/OV/vdynCjP7rgwqNTF6jZLb5mT5ThRzrV/mntlK0VLraLl/3a6r7Edxyo352cn9Vx15CZl52+sPNYx4PkLDZuzYwEwsaJsRX5+/rLczHgGACPKLz89sJ7qgiQGiFXsHPjo6bLcWIBJKqjur/NYiQhAfP7mkkwuEyvKVigUuZk9DWBEaw/6HoSGtUkARGsbOqoLREzPXw/DMAyA+Pzq/lY2V24uyBUN6EV5Q4d3BA1rRQCA+IKDoz1qhExsNB7to1vfsnvxhavP67hkOr17ftfldN5cS1Tkddmrw2rUabWl+gOn3ABXlKtUqdVKqcC3AS6LWix94zgnc6PZqBbzeh+16/Okiw2nYnN3Wo15/L6yVo1UUnSIl1tmNSr5AGDXycTLq1zpJRZzobivYptGLC5qBJfLl2hMRpWQM7BOJnOjzawW9DXAqZfzF+9C7lqVXVvqkmu0xUqZkAcALqcTPL/j5bKb9aWlWp2x8YwbTHxmnkqlUsol/KGPqrVQnLquEYgvOGjXSq52rC5exFdfjXRAyQ3H4SAmBpPo//JxEOw3CXbx7PxquPPoPhcrv96FE+XpbeeueXcdDTvXKtJjGQBgYtMVa8uqm4fZc0e5ggsw6Rub/Z44XZbNBZjMzb5PHNucyQW42WXNXq+3ufeHzcd8tz1WImIwRK3NG9OZwQ9X58cCYBgmXuFz3n41F04f3FmiSI/v7aJIsbbs4BBn1YGfRzc3ewH6YumXxxPg3wUJHGW0jxuc0ZXLuAATn64o2Xnw9FV26b0SkElrGwY907w5kwEYRblfBad35sYC3MyN5RszuYOGPrxeb19Gi0r8stt7sCAJAFdReWHQg+BmlwWa0P06GspLlmXGMwCT69/QUaGMZvNXbe01/GrJ0GjqGAtwOAAHV1szA6fd7gRwfF1qyLohCzB2uwMQDHiEn6fTmcTzt61eeABIyteX9o+F+G0qEAj8HuIL+QyOu5wOF/zbxUjyZMNUdHVX7R+ZEC5eDHYLJiDK6GCSqLQFTq3etK3owLZidbpcqVarhx6zdblcABCbnts7BjyIUDhoM55UJU/a9sZxIEmmlA69GQCO/1hyz7tG/159KxUIRhPRDqtepy3tH2svUBVKriWtv/MdHDhwDduT662iAr/7XbAbMZFRRgcTT6LUGpUah8Wo02pLjYZ1iw3aWJFcqVap8nyvGXJ6UpMv1+gKhQHW7rIUqkqPgxvLPXu8VFkot2iHzmmXy+V/uuxyDtyrj6EeG6pSh8Wo1Wp1xkNn3D1j7apBnRoLhsF9911jHeR6uvNOyuhxRddhg4/Dl+QV6i12R0P5xnwpz94/wbh/LQhPKOQDsFttgU45dppUeW80IqnAaDHmJ+H4G0q10X/Ocy+HY9BUarvdDfD4/GFPvoflspt1hT3Tu9cZrBzJspLyBrvDotcMmqlCCBkZZTR78MRydanJ5miu3FyQK3CY3ng8K0Gg7F1nKJZJY4GzJp1/0LosaolYptL5rnZx6FXKbacYkVqnkQqkWp1KxJzaplLq7EPs1201+a1YsVssDoARSsSj7YNZJUzIWr5ul50nLdhceczRE9gjDo7QGhZChkEZzTocgUylNVrt9oNlaxVCTm/0cmRqtYjB2V2FSl3/ubTLblSrSg81WuyugWPKdp1SbTjDpBfriiUcAByJRleczpzZpVaW2gbv8aypuNDUfyrtMBZrD7nBlY7l4iBHoFhbVt3ssJm0quGGzgkhAbvlx6MtHYe0F/o/r87uBgDr2c/yzl95+5o8UxN7p//Eh/HH4UuUGr2y/wGxWl9qkal27VouFpbKpGKey24zmw+dcTNJitJSVX8LbVqluuoMN3Ozrn+5CkdcqNMYJasPqJUaycBlLAC4uUqJWS4USmVSAc/lsJh2NZ4BN71Qoxx9r6Vas3Rs/SWEDOVWz+hLjgtnDOcv+z16prvd0H3lhymRhTe4UcPgCJVGq1iv0ZSaLGa9zgUOXyhdplYVquT9J6wuS2Fe4YGzsdllOpXvxUWhWqcxSh4/UJxXKPG9fMiTl5rzxIXFpUad/Qw48aLsArWmWCmm4WNCgo7Wgt/KetaCc5ZVOnWyYLeF3KTsdiQk9H5/4ADNurnuaDyaEELYizKaEELYizKaEELYizKaEELY61af13FrExZaXSyZtEIIGRJldPBdunT5zJmunu+josLDwiYHtz2EEPagjA6+M2e6fvaznT3fb9360I9+9J3gtocQwh40Hk0IIexFGU0IIexFGU0IIex1S49Hh4SE9HxjPe1tPY9Od3Cacba9//s/n4L9tuA0gwRdJIOYcCRG4bZb+nVJfNDfAgD8vSPYLSAE6HSj041mJ0SxSJge7NYQdqCxDkLY5bIXVge+9QS7HYQdKKMJYR0vcKwt2I0g7EAZTQgbdQR640oywVFGE8JG33pw0f/eE+RWRBlNgMbCZ+7mbfiU9XUG1w3v0RR6dRLKaAKg1WZpvRnqDK6J1yNyU6CMvvm5HU17NBuWqRrGOL/b1Vxn7R65WNDrDK6Re3SkRLphg+5ICw0kk+uJ5kffxDwt5trt2opKk73djchlWQOfc9sbDJqKPWZ7s93ZifAoQZxQmvFo4bx7BWH9hRxVywRb63ujvTY/pLb/KSZtvWNtDm9glV2NuvLtuoZGW0v7GYAbESdOnqtauDIvYdrAUqOrE3A0lWsqjKajNnuXmxMRJRCk5c1bqU6f1XfDW1tFnrjsa+VLH+Y1Pa8qr7OHCZVPvVmaCtO7z6ur6+xhs+QP/1aXfRdnNHUCsL73YGp5S/ry3ZZ5bv0HG7Q19VanGxFxErGieMlS6YDZyQH3yG2r3bG89m214H7lPIU6y+dQEzJGlNE3I+dXn+p379DW1Bw/D4QnZM9bqX5QLpvJ9BWwVTwmKas/G56QmTJXyguDp912on5LWY2+brX5hVXiK9nBicmQz4l0ttRX2TuZ6NmyxLj+FEuM8rkteMc+ZdGz29o8TPRsaVoaP9TtaGk01759oK7G+vJOTWL/rkdRJ9zWqqdlW2vOhEaJkjOUMZEuZ7O5wVhk3aOf97opfy6/p8JQBnA7qjXKo25x4iyH9fCWLW9JFjQX1kGSOMthtRnKNNLUbaqYUdQJgBPOAHA56zQvaorb4iSJGXK0W47UHzBrZCdazOuLJKM9SinF9s1zdRWG0ur9b2zd/8Z7CdkZCtU8udz3PYyQ0bml7wvetxb8w8+DeRDOtne+tbr3s0mXPP/QncLhP5u0zXrIqN1t0B/92g1wBfcr5y1VZ6X5n6917ctTPW0Iu79s/SZl//lgm37DYlXTNOVTO7UpzMDi9oo8YdlhzpwtzjX3Drdje/VT0vfqndErLS+vEvbuzm15d7F0tw3Jv7G/rOD7lQ+gTldTifjFHcdD79n48pvqviBr3ZP34nOGtqjc1R8aM6Jx5TQW4bOLS/SFM8/pXrlvuRUML01bslUV06Z75YHlVuSuPmTMYAKvE4Dto0Xi922c8Ehe4pPGNUvFEQCArwyyopeqzkfmrv7YmOGTrYH0qJenxVxrKK0wGu3tboTFJ+eo5imUaSL+aE+rF901yg2Cgu4LPs5oPPrm0HVM/96zkn9/IPU/N25r8ojnrCx76WPH65u02YMCGkDrSdt5MNFpEp/lxNF5az5xln7kF9ABEmRtsr9zyKnpC2gAjGTefGEo3M11lrGsiTtnqjAe7w5LV7ymHnimGZOjVWRw0W7au98+sHhcTt5MANPECbMADxLleTEAosUJcQAczvax1Amchaj4qSsBDWCmXJ0aCXRam5rH0KVeYXHSrDX61z+2l6wvmSNEk7Fo42LB44vy3iu3dI29VnKLoowewNPefur4mVPH250jXX0bj5IAgI4zXw5ZsmmHqrzSGipUPLL+4OaPLWvWKFPiOIOL9eBF8UPhPrG9uKrRMa4riiOi+AC6O51juTxoMx3tBOKkyXF+T/CT54pD4W6qsw5oPCcuQQAA4PHCGIAfHcfr/TGSgcflcY+hTgBM4ny5zzsZwxfEAXB2nRtDl3wx/MScwjV6+zsflj8il4SeNJS/pDkSpM/tIjcvGo++qTAcgIORToSn5xQvMFjKDxu2LjaUzRAlp8lSM2TiDOnMaxoYdbXW6fca9EdstrZ2Z5fbBbi7PQAQOqbqulrsXQCa1z1397ohC4S22J1A7ygzeBF9jWcAcMKGGjgYZZ0AOLwov2uYHIx4fEePLh6SMaOMvjkkKrQPntPW1mx7v37bB5r0NLl6waPyxOhhTqUZyZJt1mSDZu8eU8PhRqux0Wpch7BYwVz18sLClOgx7N/ZtEH2ytuHzoOJni0T3yOYPo2DSJ6nUbd7//Gx9cjjcQFAVHpahjB8yBIJwgHp79fToTs+yjoRyBveNXA079FVGEpr6091A+HC3AcVhYnjuDsyMVFG3xwiRMoVm5RL2ix1Rm2FwVj79uLa7bGCucoFCtWcoYakwQhSl5amLoWnzdZUb7bWGOv2Vdkri161OV4Yw5D0ydIt2w+dR/yc9eancvp311Fu3jvWjA4L4wBAlPyR1wpnjq2KG1LnGHjaLHU7tBVG44l2N8JifzB/bfZwvyZCRkIZPUBYVFR8VNBKAgCmx343ijdsgoZFSzJW6TNWOZv36fYaSmsq122qXPeuMDdLoV4gl8YMtV1YtDAlR5iSo1rSZtqinL+3Wbe3RpMyd9ix7CF11JtaPAidrXo4xydo2mz27rGOdUTMEvJQ1dZibXFj5nU6uxyPOkfD1Vqn37tdW13T6PQgdEamdLV6gVyeMJZ/XAjpRdcMb0a8hLnq/K22dz6ufOzR3Jh20+6Xsh5/QHllnaG16lnpM4sGLTuMls25Jx5wdZ0bciGcC55hF8h1uV0AMI0fMfDRc6aqfVc/ib5anRDKkqOATpN5n9Nvq6YSybOPqaqPjX7B3njU6VvPVXp0pFj4uHJ5+X57RFrBY1uOvfOJ+elVFNDkWlFG38TC4mTZRcbXP7aX/HbtnATOlRkLggi3tcWmL9/uO4fhnKm2/hTChMlCv6tkPF4UAHfTPrPPzDB3fxjFxAlCge5GvbXvQ43PWSqeU9mjRKEAzjkH3cdm5DrByBY8KgrF2boNyuqTfY+7WveptxgO2RvtnmmjO9kfrzp7BdIjQc+cyN9v1WbfK4wAIdcBjXXc/Bh+4kLNmoV9P/MyirS1h5fXbZQ8XilNFgoietcZHmjp5Aoe1Wb7r4zgJefIePt3tRnnq+pECXE8T6fzfLutNUz5wielKQCAsAx1VoJxd3PVlp9L6u4RhrptTTWHutM2v/Caa8ui1ScOa9/fgLQMeVaaIPA6ASQs1ec3yrbs37VpkbAqQ5owzdV60nz08JnusKQ5vynN9p8/F5DxqDPAHqUUmVNGqISQUaOMnojilGs/FFS9ra2tsTbsMZ/3IDxKEHdP/nKF3+d19Jqeo3vBXfjeDlPTycaj7VxeFJ+XIMvKkPfPUWMkK7YaeRuK99ZY6yqtvARx8tLyJU/KYxjnkqWmTQZzg0HbESkZkNEB1AmAEWZtsgr2aMoNpqZ6fbUboVHCZLl63kpV+iy/k/2AjUedgfeIkOuN1oIDN9FacHIrobXgBDQeTQghbEYZTQgh7EUZTQgh7EUZTQgh7EUZTQgh7EUZTQgh7EUZTQgh7EUZTQgh7EUZTQgh7EUZTQgh7HVLf17H3/72ty5MbZksGLkoIYQEw/XMaM83zuYzFy+PWG7S5CjB9Gi6aRAh5KITR/6OS1cpEYKYJHw3wI969eLMcXx1HtO/j1nXdPtO9riOGX3Z8b97H3nTOXJBRPxyh2LNXbf0KTwhBAA69iD1kRHK/HsN3p4TWHXd2JqLF5swfzf25Fxz41jhegbllMip37nd3X/3D+/lzg53N4BJYdN5k0MGlOOFhQyxPSHklhUZhduGvDw2BTFjvjPDRHAdM3rSjEU5/7towAMXz27/peH3JzFj6UP/89QddMNNQsgwePjfZmRODXYz2IjmdRBCCHsFZVDY2/n5iXLLBV66UBbd/sHbn9e3T0mQ/ODnD8VN+6JpV/35KYLv/+L+yAF3m/Z2NBz/U8OFsO//4N/um+pzF+pLLpu5qarmzMkzHu/Uqd9Pjc9ZEP/9SBpIGaXGwmcWlwq2ONfcy+46g2vi9ejm48XXh7CzHPXH0NaJyeGIS0J2Hn6eNsLd6T1n8GEZ9ljw9Tlw7sDdEixehh9F+Re72A7jduz+C746C+53ce/PsOwh8CaPW3cCEpyMPttw+Pf/9c2dZ0PqP7ZUtgJA7Z/beekLMw9Zf196dspP7sj1yejLbbUNb+o6b7s/JndARnta/r7umf27TvXfQuUv+49vfzPql/8pK8gID/Jxvam02iytwPWdgTgedQbXxOvRTcZ7HqVL8ES576N7oNuI+34H03O4bZgNW6uQ/RCs3QM2+h+sfx7/sRev3Nc/lHBSj5xHcHzAxLQPy1D4I/xPBR4M5q2RgjnW8Q+9pbI1/Mc/m/3ov82656ci2cxRNMb7rWPTE/t2nfKGJt71H6WKj/+8Yv+fcosXx3A87X9QV2z5/OL4NZt13I6mPZoNy1QN7pHLDsXVXDfw7/e6GI86g2vkHh0pkW7YoDvS4rpqKTJWh57HE+XANDxvQPM/caELX1pR8hAA/Pk/YHQMvZW3AwV5sHYjowif/QPnz+P059A8CLjx2sOo6ewtdvZTPLAYxy9D9Bj2H0fntzhZi4J0uP6KBXPxWdfQld8QQZ0Adyn0vt8uWp8dfiWbLzcHuuXlL3f95Q8twIyU/9r6k9SeKw3hsQvWPHjnlA9X7HDq1jct/O+7vzPRz6U9Leba7dqKSpO93Y3IZVkDn3PbGwyaij1me7Pd2YnwKEGcUJrxqN89Zx1VywRb63ujvTY/pLb/KSZtvWNtjs9NWrsadeXbdQ2Ntpb2MwA3Ik6cPFe1cGVegs881NHVCTiayjUVRtNRm73LzYmIEgjS8uatVKfP6ruUb6vIE5d9rXzpw7ym51XldfYwofKpN0tTYXr3eXV1nT1slvzh3+qy7+KMpk4A1vceTC1vSV++2zLPrf9gg7am3up0IyJOIlYUL1kqnT6GHrlttTuW176tFtyvnKdQZw11e18yDCfkP0D4oLO0kOl4zwLpVOAsfvc2AOTtxCs56BnOnCnC2jLUfhcVF7DbhsX8ISq+YMN+JyDAmy9CzAGA2+7Cr7bjs+/hTyE49CXuuxvoxjsFOAkICnBgI7ghADD1J9j4MULFWH8Mz+zAn1XBCsugZjQ3Ycm9g38tAeg+W/VhO4AfrhCJBl4KDglNyRPdvePTzw/bPj0jfHjGRL0i6vzqU/3uHdqamuPngfCE7Hkr1Q/KZTP7lwXZKh6TlNWfDU/ITJkr5YXB0247Ub+lrEZft9r8wirxlezgxGTI50Q6W+qr7J1M9GxZYlx/iiVG+Ux46tinLHp2W5uHiZ4tTUvjh7odLY3m2rcP1NVYX96pSezf9SjqhNta9bRsa82Z0ChRcoYyJtLlbDY3GIuse/TzXjflz+15yXFCGcDtqNYoj7rFibMc1sNbtrwlWdBcWAdJ4iyH1WYo00hTt6liRlEnAE44A8DlrNO8qClui5MkZsjRbjlSf8CskZ1oMa8vkoz2KKUU2zfP1VUYSqv3v7F1/xvvJWRnKFTz5PKECbKWYpw5HRhicUUrunrWt0Tg9T9jhR0/nIuB15tCInHPTFScQOu3Q1c7iQMOADs2/wkbfoGIEAAIuR0ffIMrt5yG5wRKGwDg+ed6A7qv8mfWYn0+Dv43vloJQXDSMqgZHcefOaaJj97zHZ99BWDypaYTO9/3DWLPuYuTgMvOz768NAEzus16yKjdbdAf/doNcAX3F8xbqs5K8z9f69pXbKg/y7u/bP0mZf/5YJt+w2JVU6Wuaak2pTdSeamr9KmwV+QJyw5zEp80Dn81zG4tN3cz3B88aXl5lbB3d27Lu4ulu23a94zqlxV92Rd4na6mDXllNWfC79n48pvqviBr3ZP34nOGvS+pkmcbM6IBcACg01TXUlyiL5x5TvfKfcutRlV5mrZkqyqmTffKA8utjaYmtyqGCbzOHgw89ipNaeKTll8vFfesY/vKICt6qarFqKl70pgxbbQ94sTcq1pxr2pJi7nWUFphNO7VVO3dEJ+co5qnUKaJ+HRaPbxwvLUb/zJ4RHkKhFN7vxGkQpAKABc78YUNJ77A8b+hxoyPTwDAZe+gbQEAnLvxZBrW1mGrAlufxvwc3C/F3AcgntFfpvNz/B0Ag8b3sMH3t+T+ApOBS8dx4gIEkdejp6MW1IzmMJwxpejlrvPnLgO49PkHdZ8PXeRix7cjL0q/iXQd05e/ra3ed8jpQWhU+pyVqnmKvJS4od/iWk/azoOJS5NMH/hodN6aT/LGun9B1iZ7lt9jjGTefOFeW2NzncWjkI86gM6ZKozHu8PSl7ymHnimGZOjVRhNm2pMe/fbMxT9l+jicvJmApgmTpgFqw2J8rwYANHihDhYWxzOdiBu1HUCZyHSPnUloAHMlKtTN1TVdlqbmpEhGm2XeoXFSbPWSLOedDTt01VsL60zFh01FvOE8qxH1QsXSgJc1HyLCUPyj5F+9fnRF/HnTfj17/Fn3zHREf7yGDxXhYin8av3cL4VlTpU6gBgRiZKfo8lszEJONeCywDc2FQ0TCVdOBu0yyvBXZAdEugsOf83yZ4NI362VvKT6UPWMSlq9tUn4wzF095++p+XgMlcQRTvqp8nMh4lAQAdZ74M598+uGTTDlV5pSt6tuKRpeqsuZLpV62JF8UPReOJ7cVVIm3WeJ6+RUTxgcbuTmf3iK+UwWymo51AgjQ5zu8JfvJccWjNgaY6q0fR9y8CJy6hJ1t5vDAG4EfH8Xp/jGTgcXncY6gTAJM4X+7zTsbwBXGotTm7zo22P4Mw/MScwjU5hV3HjFU7tHv3GMpfcv0gx5hOn1QzFhdhWIq8nQAQmYgH7kPqbMwWQyLGu+koOna1TSfx8OQOrFyP/buxdz8+qcKRdnx9AMv+Bafq8OtUhPRcuZqJt9YjesjTxlD8JDgn0Qh2Rg8SAgCXL3l9I9n77Tc+b2KTIyOjQtHUfXlKUvxPZ7OsC+OK4QAcjPQin55TvMBgKT9s2LrYUDZDlJwmS82QiTOkM69pYNTVWqffa9Afsdna2p1dbhfg7vYAGGFm6nC6WuxdAJrXPXf3uiELhLbYnUDvKDN4EX2NZwBwwoZ6TxhlnQA4vCi/a5gcjHh8R49GOa7Vt7V4cicAqP6ENx4acEAv4MuOgGpgYjF/BeavALxo3osnfgnTN1j3Kgo+BE+AMMDjQepD+Nfw8enA2LEr4JipUwBc/ue5s5cwtW9WhuecxW9aWfjtmT/AXz6/YN7V+swPZ0wdcCZ98R+NS/Pqv46a+czmeYviJs54dKJC++A5bW3Ntvfrt32gSU+Tqxc8Kk+MHmY4n5Es2WZNNmj27jE1HG60GhutxnUIixXMVS8vLEyJHnqjq3I2bZC98vah82CiZ8vE9wimT+Mgkudp1O3ef3xsPfJ4XAAQlZ6WIRz6ZZEgHJD+fj0duuOjrBOBvOFdA0fzHl2FobS2/lQ3EC7MfVBRmEgn0WPz9SH8E8AsPDHP5x3P1QSTAwAuDzO2+UUp5hfB+VOc+CN6345DkJCNDWtgegFdX+P8ZUT9ECKgvhXvHIIky+eaZNPvMPt5zMjGJx9h1tjORq4VqzJ6Eu970yPxz84vjn7wtyS1OCwEgLfbtvPTHS2+BSdHZCkFb/zK/s2u6tf/Nbfop1N7fmve8+1/eOmzJs9lTP3Ov8RMnIAGECFSrtikXNJmqTNqKwzG2rcX126PFcxVLlCo5gy6ZggAjCB1aWnqUnjabE31ZmuNsW5flb2y6FWb44WP+q4ZBuxk6Zbth84jfs5681M5/bvrKDfvHWtGh4VxACBK/shrhTPHVsUNqXMMPG2Wuh3aCqPxRLsbYbE/mL82e7hfEwlQZCwAoAV/bcMPr/xuLzvx2gqcBAC4OuEFBg98xgrR4cQ/P8Jb/77phR0AABuHSURBVIf/+JcrBS6gYhcAzJSAOwlTvovChfh5Od5Ziuwa/CK+d9vOv2LFr+HuxrR7MTM4AQ2WZTTCU2YvuvOLbf849/5KgzXzu0l3eFuP/KOmyXPnj6d//dnA/2hCbpdmFC9o/1XFt/9b+If6H33/vpSpoZ3O+r32pi5gcswTxcl3juGQhkVFxQ9aHnrDSgIApsd+9yrD1mHRkoxV+oxVzuZ9ur2G0prKdZsq170rzM1SqBfIpTFDbRcWLUzJEabkqJa0mbYo5+9t1u2t0aTMHd18mo56U4sHobNVD+f4BE2bzd491rGOiFlCHqraWqwtbsy8TmeX41HnaLha6/R7t2uraxqdHoTOyJSuVi+QyxPG8o8L8RWTDXkkjJ1QpqHuCfzwDnzzBcrfxWdOJMagqRWOY/AMNUwVOQev/RT5n+CFH+OjXGSlIOxbHNqF/XYgGtq1uA3AJOS+hWWfYduXeDgB9+UhPR5OGwxGnAOmpEH3ZBCHq1h2ssmJyt/004dTwoALRw80ffTRiZovwjKfenDTiij/WTmTwu9/cdG7zyXeFQnHX7/4YLv1/XJ7UxfuSE0u/sODyxOnTOjP7OAlzFXnb7W983HlY4/mxrSbdr+U9fgDyisDQtaqZ6XPLBq07DBaNueeeMDVdW7IhXAueIZdINfldgHANL7PnIRzpqp9Vz+JvlqdEMqSo4BOk3mf37RYV1OJ5NnHVNXHRr9gbzzq9K3nKj06Uix8XLm8fL89Iq3gsS3H3vnE/PQqCujrZDIf28zIEwKn8V+/xuNP4PkNaPsxdA2oLAaA5t34csipF6FYVY53VYgB/roLr/8WJW9gvx0CGYz1+PmVOaOTv4N3GvDGMvC8+PNO/E6D/zbiHHDvk2j4BOJgTsYZz/PoKdylHzy2dIgnJs185N8+G+ZzvcNmzPqVTvDE1980fenyRkxNSOTdHgZgRvVn/lO/MIkzO0+6Q3HvN6f+aW/1dE9hvpNw+3enT57Q6ewjLE6WXSTLXuNo2qOtMDo9vQ8LItzWFpu1fLsquX+5CnDOVFt/CmGiZKHfVTIeLwqAu2mfuWuurP+P0e0C03u6HRMnCMWh8416a5syqyd0zlkqnlPZo0ShXzfinLMDiBhlnWBkCx4V1W5srNugrBbqs3oXAbpa96m3GA7ZGZ5n2ugnz49HnaPokWDOyuKrzIkkQ4j+Jby/DKjktB9h5+d48wT+Zsel2/C9FCT0TMkRw/t4f7FfH8evfTcMmYrlm6HU4uTnONWKSxwkpOB7d/gPjEy+A8/o8HQpjh/GVx0IvR13/xDDXfK5gdg11nHFpKkzon40Y+RyABAy+XZBzO238kfdMPzEhZo1C/t+5mUUaWsPL6/bKHm8UposFET0rjM80NLJFTyqzb7Lb3teco6Mt39Xm3G+qk6UEMfzdDrPt9taw5QvfFKaAgAIy1BnJRh3N1dt+bmk7h5hqNvWVHOoO23zC6+5tixafeKw9v0NSMuQZ6UJAq8TQMJSfX6jbMv+XZsWCasypAnTXK0nzUcPn+kOS5rzm9Js//lzARmPOgPsUUqROWWESsg1CkFUIrISx7Qpg++l4nsjFuNAmAbhWPYwTtiZ0eTaxCnXfiioeltbW2Nt2GM+70F4lCDunvzlCr/P6+g1PUf3grvwvR2mppONR9u5vCg+L0GWlSHvn6PGSFZsNfI2FO+tsdZVWnkJ4uSl5UuelMcwziVLTZsM5gaDtiNSMiCjA6gTACPM2mQV7NGUG0xN9fpqN0KjhMly9byVqvRZfif7ARuPOgPvESHXW4jXO8waylvAkSNH2HBf8LPtnW+t3tnz/ZLnH7pTGMwPQiTsscj/Px5WstuRkND7/YEDuO++oLZmAmLZNUNCCCEDUEYTQgh7UUYTQgh7UUYTQgh7UUYTQgh7UUYTQgh7UUYTQgh7UUYTQgh7UUYTQgh7UUYTQgh7UUYTQgh7UUYTQgh7UUYTQgh7UUYTQgh7UUYTQgh7UUYToLHwmbt5Gz5lfZ3BNfF6RG4GlNEErTZL681QZ3BNvB6RmwJl9M3P7Wjao9mwbNCNwAPlaq6zDnlH5WswHnUG18g9OlIi3bBBd6TlGm89TogPup/hTczTYq7drq2oNNnb3Yhc5nPjdLe9waCp2GO2N9udnQiPEsQJpRmP+t3P0FG1TLC1vjfaa/NDavufYtLWO9bm+NwAsKtRV75d19Boa2k/A3Aj4sTJc1ULV+YlTBtYanR1Ao6mck2F0XTUZu9ycyKiBIK0vHkr1emz+u7HbKvIE5d9rXzpw7ym51XldfYwofKpN0tTYXr3eXV1nT1slvzh3+qy7+KMpk4A1vceTC1vSV++2zLPrf9gg7am3up0IyJOIlYUL1kqnT6GHrlttTuW176tFtyvnKdQZw1160hCRosy+mbk/OpT/e4d2pqa4+eB8ITseSvVD8plM5m+AraKxyRl9WfDEzJT5kp5vfcF31JWo69bbX5hlfhKdnBiMuRzIp0t9VX2TiZ6tiwxrj/FEqN87lrfsU9Z9Oy2Ng8TPVualsYPdTtaGs21bx+oq7G+vFOT2L/rUdQJt7XqadnWmjOhUaLkDGVMpMvZbG4wFln36Oe9bsqfy++pMJQB3I5qjfKoW5w4y2E9vGXLW5IFzYV1kCTOclhthjKNNHWbKmYUdQLghDMAXM46zYua4rY4SWKGHO2WI/UHzBrZiRbz+iLJaI9SSrF981xdhaG0ev8bW/e/8V5CdoZCNU8u930PI2R06J6zN9U9Z9ush4za3Qb90a/dAFdwv3LeUnVWmv/5Wte+PNXThrD7y9ZvUvafD7bpNyxWNU1TPrVTm8IMLG6vyBOWHebM2eJcc+9wO7ZXPyV9r94ZvdLy8iph7+7clncXS3fbkPwb+8sKvl/5AOp0NZWIX9xxPPSejS+/qe4LstY9eS8+Z2iLyl39oTEjGldOYxE+u7hEXzjznO6V+5ZbwfDStCVbVTFtulceWG5F7upDxgwm8DoB2D5aJH7fxgmP5CU+aVyzVBwBAPjKICt6qep8ZO7qj40ZPtkaSI96eVrMtYbSCqPR3u5GWHxyjmqeQpkm4o/2tJruOUtA49E3i65j+veelfz7A6n/uXFbk0c8Z2XZSx87Xt+kzR4U0ABaT9rOg4lOk0wf+Gh03ppPnKUf+QV0gARZm+zvHHJq+gIaACOZN18YCndzncUzhirPmSqMx7vD0hWvqQeeacbkaBUZXLSb9u63Dywel5M3E8A0ccIswINEeV4MgGhxQhwAh7N9LHUCZyEqfupKQAOYKVenRgKd1qbmMXSpV1icNGuN/vWP7SXrS+YI0WQs2rhY8PiivPfKLV1jr5XcoiijB/C0t586fubU8XbnSFffxqMkAKDjzJdDlmzaoSqvtIYKFY+sP7j5Y8uaNcqUOM7gYj14UfxQuE9sL65qdIwlPQMWEcUH0N3pHMvlQZvpaCcQJ02O83uCnzxXHAp3U511QOM5cQk9/+7weGEMwI+O4/X+GMnA4/K4x1AnACZxvtznnYzhC+IAOLvOjaFLvhh+Yk7hGr39nQ/LH5FLQk8ayl/SHBn8ux3lXwi51dB49E2F4QAcjHQiPD2neIHBUn7YsHWxoWyGKDlNlpohE2dIZ17TwKirtU6/16A/YrO1tTu73C7A3e0BgNAxVdfVYu8C0LzuubvXDVkgtMXuBHpHmcGL6Gs8A4ATNtTAwSjrBMDhRfldw+RgxOM7enTxkIwZZfTNIVGhffCctrZm2/v12z7QpKfJ1QselSdGD3MqzUiWbLMmGzR795gaDjdajY1W4zqExQrmqpcXFqZEj2H/zqYNslfePnQeTPRsmfgewfRpHETyPI263fuPj61HHo8LAKLS0zKE4UOWSBAOSH+/ng7d8VHWiUDe8K6Bo3mPrsJQWlt/qhsIF+Y+qChMHMfdkYmJMvrmECFSrtikXNJmqTNqKwzG2rcX126PFcxVLlCo5gw1JA1GkLq0NHUpPG22pnqztcZYt6/KXln0qs3xwhiGpE+Wbtl+6Dzi56w3P5XTv7uOcvPesWZ0WBgHAKLkj7xWOHNsVdyQOsfA02ap26GtMBpPtLsRFvuD+Wuzh/s1ETISyugBwqKi4qOCVhIAMD32u1G8YRM0LFqSsUqfscrZvE+311BaU7luU+W6d4W5WQr1Ark0ZqjtwqKFKTnClBzVkjbTFuX8vc26vTWalLnDjmUPqaPe1OJB6GzVwzk+QdNms3ePdawjYpaQh6q2FmuLGzOv09nleNQ5Gq7WOv3e7drqmkanB6EzMqWr1Qvk8oSr/+Myyr8Qcquha4Y3I17CXHX+Vts7H1c+9mhuTLtp90tZjz+gvLLO0Fr1rPSZRYOWHUbL5twTD7i6zg25EM4Fz7AL5LrcLgCYxo8Y+Og5U9W+q59EX61OCGXJUUCnybzP6bdVU4nk2cdU1cdGv2BvPOr0recqPTpSLHxcubx8vz0ireCxLcfe+cT89KqRApqQkVBG38TC4mTZRcbXP7aX/HbtnATOlRkLggi3tcWmL9/uO4fhnKm2/hTChMlCv6tkPF4UAHfTPrPPzDB3fxjFxAlCge5GvbWtrzZLxXMqe5QoFMA5Z4d/00auE4xswaOiUJyt26CsPtn3uKt1n3qL4ZC90e6ZNrqT/fGqs1cgPRL0zIn8/VZt9r3CCBByHdBYx82P4Scu1KxZ2PczL6NIW3t4ed1GyeOV0mShIKJ3neGBlk6u4FFttv/KCF5yjoy3f1ebcb6qTpQQx/N0Os+321rDlC98UpoCAAjLUGclGHc3V235uaTuHmGo29ZUc6g7bfMLr7m2LFp94rD2/Q1Iy5BnpQkCrxNAwlJ9fqNsy/5dmxYJqzKkCdNcrSfNRw+f6Q5LmvOb0mz/+XMBGY86A+xRSpE5ZYRKCBk1yuiJKE659kNB1dva2hprwx7zeQ/CowRx9+QvV/h9Xkev6Tm6F9yF7+0wNZ1sPNrO5UXxeQmyrAx5/xw1RrJiq5G3oXhvjbWu0spLECcvLV/ypDyGcS5ZatpkMDcYtB2RkgEZHUCdABhh1iarYI+m3GBqqtdXuxEaJUyWq+etVKXP8jvZD9h41Bl4jwi53mgt+E21FpzcSmgtOAGNRxNCCJtRRhNCCHtRRhNCCHtRRhNCCHtRRhNCCHtRRhPCRlPp0z0IAMpoQthp+phXRJKJ5VbP6JBgN4CQwUKAu+iDPggAyuhw+o+SsM/dMTTWQXrd6mvBp4bhvhgcaUWXB+5LwW4NubUxkxERhh/G4I6h71BAbkW3dEanpPR+Bo40qKvBv/4ab135/r54/OimWAFMCLkhbvWxDkIIYTPKaEIIYS/KaEIIYS/KaEIIYS/KaEIIYS/KaEIIYS/KaEIIYS/KaEIIYS/KaEIIYS/KaEIIYS/KaEIIYS/K6BvtH/84O6ryX3zxzeXL3nFqDCGE5Sijb7SIiNAHHtj+xRffjFjyiy++eeCB7ZcuXZ40iT7mmpBb1C39uXdBcccd4YsX/zAv73+mT+ds3rzg+9+/fXCZL7745vHHKzo6XAsXCpOSom58IwkhLBHi9dL/0UHwwAPbOzpcAKZP50ilgvJyW8/jP/nJd48da+t5imGmfPrpcjqJJqxmtyMhoff7Awdw331Bbc0ERGMdwaHX/1vPNx0drr6ABvCXv3zZE9AAduxYSAFNyC2OMjo47rgj/Ikn7rlKgYULhbNmTb9h7SGEsBNldNCsWJE6fZibPzPMlKKie29wewghLEQZHUx9Ix5+/vjHX9AoByEElNHBNeSIx9KlohkzIoPSHkII21BGB5nfiAfDTHn66fQgtocQwiqU0cE3cMTjj3/8RQgNchBCrqCMDr6+EY8nnriHRjkIIQNRRrPCihWps2ZNX7EiNdgNIYSwC2U0K1y6dFmnk1+6dDnYDSGEsAt9XgcrTJ48KTyc3i8JIf4oFwghhL0oowkhhL0oowkhhL0oowkhhL0oowkhhL0oowkhhL0oowkh16Czs/97pzN47Ziw6F5ZhJCAxcSgrW10m3R3Ywqtwxg7Oo8mhATs8OHRlf/rXymgrxFlNCEkYHw+Xn010MKrViGVPoLmWtFYByFklAIZ8bjtNnz7LSbRWeC1oiNIAAAum1GjlImFfB4nJCQkhMPj8QViealt5C3HzKYRc0JCeErTOO6DHSxqQUhIiFBtCXZDrpdARjw++4wC+rqgg8gOlkJhCC8vaGll18mlC4u2VTXawRenZ2ZmSoQCPsfldLrGXGWQe0TG04gjHqtW4e67b1RrJjgazmcFu9ViB8TB2r1NrzWfASMqMJm0Uv51qTLIPSLj7fnn8cYbQ4943HYbSktveIMmLDqPZgOX1Wx1B3H/dpvdDQjzlNcpoIPfI3IDDDfi8fnnNMpxHdGhBJw6GSckhK80uQA4LaUqqZDP43A4PL5AKNVY/Uo7LDp1Xn8JsUypMdqGGhJw2U1alUzSM8LL4fGFEplKa7L7FnWUSjkhIbctNJwFzhrmhwzAkeuvZUWAw1yqlkuEfB6HE8LhCcTSvEK91adCp17O6dnV/G1nATQWpYb4GNMA6mh7xAFcLpteLZcIeg6pWKostTiGqjnQIz8KTqu+UCkTC3orFUrz1DrLkId95OPZw2UzFuZJhHwOh8PhC6V5GqPdBXAGFxynHt1AQ454/L//B4EgGK2ZuLzE27A2CYBobUNHdYGI6TkuDMMwAOLzqwcUvNCwOTsWABMrylbk5+cvy82MZwAwovzy0751HtuYyQXATcrMXZbfUzSJC4CbWdJwob9YR2WJQpGbLeICYOLTcxUDbKy+4B2bCwdLMn3bmd7TznjFzub+UtUbe3bU+yxXlO2zf0XBgMIBC7xHx0pEDBC/bOPadC4TK8rMVShyM+O5AMCI1h706fwojnzgR+lYWW5PJbGizNzc3NxMUSwDAPG5Zcd89x7Q8fR6vd7mnmaCm5StyM/PV2SLYpn43AJFEoCkgoPj3KOgiI72Ar1ft93mvXw52A2aaCijvV5vx85cBmBy1xaIGCZJsbHyWEfvMxc6OvpfrBcOFiQxADdzY0NH/8bNOxXxAGJzdw54ZXWUK7hAbG6Zz6vt9E5FPDdeVDAoe5s3pjMAV1F5XbpzoTo/HgCTvra6v50XGjZmxwLg+rXJ6/V6vZUKLsCkbxxDJA8jkB71ZDTD5cZnDziixzZncwFwFeUDGh/4kQ/YhYNrRQzAiAoq+ze/0Fym6Dl2Jcf6Hwz4eHaUK2IBxOaW9R/JjuoCERfwy+jx6FGQnD7dn9HN1+8viFxBGe31er3V+bE9p87xiuHPYXpyd4gkO12WzQWYzM39TzSUiAAmfeMxb0Cua0Z37Mzl9iSC31tBbyYOEcXBzGhws33fNS5UKri+iTaaIx+onjqHOEqnN2dzubHx2X2/u8CPZ29J0doGn3IXKpfFYvx7FESvvuoFvK++Gux2TEw0Hg0AHA4PgJsjLdbKh71qZjWZzwICqdR/tI0vlYsZuC1ma99QIp/PZ+A+pC0utThu8Piiy2KynAXipXKJ3yCoUCoTAG6reegB1yBhJHm+x5zDFwsAOPo/n2c0Rz5QVqN56KPEV5mcTofdpBb2/DyK42mz2M4CsWKZ73QWjkQmYfz2Pg49CqLnn0dyMp5/PtjtmJgoo/sxkjzZ8PManHa7E8DxdX4X1kJCQhIeP+AGYLf3Xeni5xWr07k4ZXj8X7/DE4hlykKt3my7IdHY005GIBx84UYgFDAAHPahrsgFC4fP5/k9AvhE2qiOfIActmGPkp/Aj6fL4bAD4Av9/4h4/l0cjx4F08WLOHgQFy8Gux0TE82P7scTCK4y9czlcgFAbHquTMgbsoRQ2H+ixZFozFZpqaZUbzIdaqza1li1bd1qJlYkV2u1hddthttV2snhDZ5KwOFwALhd17Ay5frjDDPnod/ojnxgrnKUAi/pfzxdLgBMz6NDFBxU53XtUTBNmYLIyGA3YsKijO43xItr8LN8uUZXKAyoOoFMXSpTw+WwWcxmk8loNFY1GopkVofJqpWO20uwt51DLRF09YYI/2Z6/Y/hyAdeZwALKUdxPHsj2zWopP/G49EjMlHRWEegeEIhH4DdOtoJrBy+UJqn0uhMNltlfhLcx3WlpnE8keULBDzAbbfZBz1lt9rdAEdwk81fHfORvwq+cNij5F8y4OPJ4fP5AByDSjp6hjb6jUePyERFGR0wsUwaC5w16Yx+48oui1oilql0/Zd5rKV5UqFY5R/FfFmeNB4Y7mMwXBh8BjYGEpmEC5wxGc1+tVmN5uMAI5H5X/waN9epR6M48oHXKZdygTNmo8VvW6dezufx+JK+xUuBH0+hRMwAZyxm33VPDpPR4rfmcjx6RCaqYE8sYYWDBUkA4n3WGAyhoWeymM8ShwvN5fkiBuBmD5gu1TMJy2+5itfbUZmfBDCiEt+5WVcmaCN+WWXHwIcvjG0Ny4XqgiQMns9bkskdYh9er3c85t4F0qOeuWuxy6r9tu15nLtswLy9gI984HpnKDOiguoBU/+ay5f1PDpg/lzgx/N0WS4XQGz25r5mXmguU8RzuX6zCcelR2Riooz2egPO6AEr0+LTc5flL1Nkp8cyAJikQevNynL7FpH5rjMUFVQPDsnTO3NjAQDceFFmZma6SJQUyzC+ixxHYeC6uGX5+fnLsntW0HHT1x4cvPPxyOhAejSKjB7FkQ/clWUo4ManZysUCkV2z+pBn4ztKRnw8WzoWV56ZYVldno8wyTlb16bzvj/fY1Hj8hERBnt9Qae0V6v19vRsHOtIlMUz2UYhuHGi7KXlZQfGyr4TldvLsjNTIrnMgzAcGOT0nPzN1Y2D3Nu3NFQlp8tiuf2lI1PEmXm5pdUjv3FeuF09eb83PSkWC7D9O58c/VwOx+HjA6gR6PJ6J4KAzzyo3D6YFmBIjMplsuAYbjxokzF2rIh38YCPp4dDTsLctPjuQwYJjYpc9nG6tPe05szGSB20FvuePSITDR0HxZCCGEvumZICCHsRRlNCCHsRRlNCCHsRRlNCCHsRRlNCCHsRRlNCCHsRRlNCCHsRRlNCCHsRRlNCCHsRRlNCCHsRRlNCCHsRRlNCCHsRRlNCCHsRRlNCCHsRRlNCCHsRRlNCCHsRRlNCCHsRRlNCCHsRRlNCCHsRRlNCCHsRRlNCCHsRRlNCCHsRRlNCCHsRRlNCCHsRRlNCCHsRRlNCCHsRRlNCCHsRRlNCCHsRRlNCCHsRRlNCCHsRRlNCCHsRRlNCCHsRRlNCCHsRRlNCCHsRRlNCCHsRRlNCCHsRRlNCCHsRRlNCCHsRRlNCCHsRRlNCCHsRRlNCCHsRRlNCCHsRRlNCCHsRRlNCCHsRRlNCCHsRRlNCCHsRRlNCCHsRRlNCCHsRRlNCCHsRRlNCCHs9f8BCEiRbxeUe0kAAAAASUVORK5CYII=)"
      ],
      "metadata": {
        "id": "2V1GQOhk30iA"
      }
    },
    {
      "cell_type": "markdown",
      "source": [
        "Problem: Write code to take input of positive number then find number is divisible by 3 and 5."
      ],
      "metadata": {
        "id": "gBLb6_qI4mpr"
      }
    },
    {
      "cell_type": "code",
      "source": [
        "# write your code here\n",
        "num_a = input(\"enter a number\")\n",
        "num_a = int(num_a)\n",
        "if (num_a > 0):\n",
        "\n",
        "  if (num_a %3 ==0 and num_a % 5==0):\n",
        "    print(\"num_a is divisible by 3 and 5\")\n",
        "  else:\n",
        "    print(\"num_a is not divisible by 3 and 5\")\n",
        "else:\n",
        "  print(\"enter a positive number\")\n"
      ],
      "metadata": {
        "colab": {
          "base_uri": "https://localhost:8080/"
        },
        "id": "y3BllbBBAgJ6",
        "outputId": "86e11cc9-ee58-4455-f254-dc47d9f3c341"
      },
      "execution_count": null,
      "outputs": [
        {
          "output_type": "stream",
          "name": "stdout",
          "text": [
            "enter a number-3\n",
            "enter a positive number\n"
          ]
        }
      ]
    },
    {
      "cell_type": "markdown",
      "source": [
        "![image.png](data:image/png;base64,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)"
      ],
      "metadata": {
        "id": "U26Xh-0LCn3z"
      }
    },
    {
      "cell_type": "code",
      "source": [
        "for i in range(10):\n",
        "    print(i)\n",
        "    i=i+2\n",
        "    print(i)\n"
      ],
      "metadata": {
        "colab": {
          "base_uri": "https://localhost:8080/"
        },
        "id": "7XF2Stt6NTla",
        "outputId": "1179bf63-35d9-4343-c57a-f4dee95e7645"
      },
      "execution_count": null,
      "outputs": [
        {
          "output_type": "stream",
          "name": "stdout",
          "text": [
            "0\n",
            "2\n",
            "1\n",
            "3\n",
            "2\n",
            "4\n",
            "3\n",
            "5\n",
            "4\n",
            "6\n",
            "5\n",
            "7\n",
            "6\n",
            "8\n",
            "7\n",
            "9\n",
            "8\n",
            "10\n",
            "9\n",
            "11\n"
          ]
        }
      ]
    },
    {
      "cell_type": "code",
      "metadata": {
        "trusted": true,
        "id": "Dh3vQucWlHv6",
        "colab": {
          "base_uri": "https://localhost:8080/"
        },
        "outputId": "db14ee07-480f-4c9c-85de-7ad985a2f09c"
      },
      "source": [
        "# Square of Even numbers\n",
        "\n",
        "for i in range(0,10): #1\n",
        "\n",
        "    if i%2 == 0:   #2\n",
        "        print(\"Square of \",i,\" is :\",i*i)   #3\n",
        "\n",
        "    else:                                #4\n",
        "        print(i,\"is an odd number\")    #5\n",
        "\n",
        "print(\"end loop\")"
      ],
      "execution_count": null,
      "outputs": [
        {
          "output_type": "stream",
          "name": "stdout",
          "text": [
            "Square of  0  is : 0\n",
            "1 is an odd number\n",
            "Square of  2  is : 4\n",
            "3 is an odd number\n",
            "Square of  4  is : 16\n",
            "5 is an odd number\n",
            "Square of  6  is : 36\n",
            "7 is an odd number\n",
            "Square of  8  is : 64\n",
            "9 is an odd number\n",
            "end loop\n"
          ]
        }
      ]
    },
    {
      "cell_type": "markdown",
      "source": [
        "Problem statement- Suppose we want to find frequency of charecter in the given text. Please help to write code for this.\n",
        "\n",
        "Example-\n",
        "Input Text - \"hello how are you\"\n",
        "output-\n",
        "h- 2\n",
        "e - 2\n",
        "l - 2\n",
        "o- 3\n",
        "w - 1\n",
        "a - 1\n",
        "r - 1\n",
        "y - 1\n",
        "u - 1\n"
      ],
      "metadata": {
        "id": "l_5lss80rgB2"
      }
    },
    {
      "cell_type": "code",
      "source": [
        "state_1 = input(\"enter a statement\")\n",
        "dict = {}\n",
        "for i in state_1:\n",
        "  if i ==\" \":\n",
        "    continue\n",
        "  if (i in dict):\n",
        "    dict[i] = dict[i]+1\n",
        "  else:\n",
        "    dict[i] = 1\n",
        "print (dict)\n",
        "\n"
      ],
      "metadata": {
        "colab": {
          "base_uri": "https://localhost:8080/"
        },
        "id": "PFFB484NAnQe",
        "outputId": "31d4e2cc-bf3a-478b-ec29-3f3ae676cb33"
      },
      "execution_count": null,
      "outputs": [
        {
          "output_type": "stream",
          "name": "stdout",
          "text": [
            "enter a statementhello how are you\n",
            "{'h': 2, 'e': 2, 'l': 2, 'o': 3, 'w': 1, 'a': 1, 'r': 1, 'y': 1, 'u': 1}\n"
          ]
        }
      ]
    },
    {
      "cell_type": "markdown",
      "metadata": {
        "id": "V-ITXCyJlHwA"
      },
      "source": [
        "### Built-in Functions"
      ]
    },
    {
      "cell_type": "code",
      "metadata": {
        "trusted": true,
        "id": "JVL_K6dVlHwB",
        "colab": {
          "base_uri": "https://localhost:8080/",
          "height": 101
        },
        "outputId": "61dff726-0d61-424b-92cc-df0a64745052"
      },
      "source": [
        "print(\"Sum of array: \",sum([1,2,3,4]))\n",
        "print(\"Length of array: \",len([1,2,3,4]))\n",
        "print(\"Absolute value: \",abs(-1234))\n",
        "print(\"Round value: \",round(1.2234))\n",
        "\n",
        "import math as mt      # importing a package\n",
        "print(\"Log value: \",mt.log(10))"
      ],
      "execution_count": null,
      "outputs": [
        {
          "output_type": "stream",
          "text": [
            "Sum of array:  10\n",
            "Length of array:  4\n",
            "Absolute value:  1234\n",
            "Round value:  1\n",
            "Log value:  2.302585092994046\n"
          ],
          "name": "stdout"
        }
      ]
    },
    {
      "cell_type": "markdown",
      "metadata": {
        "id": "yf-OJBjrlHwF"
      },
      "source": [
        "### Functions"
      ]
    },
    {
      "cell_type": "code",
      "metadata": {
        "trusted": true,
        "id": "ZuzBfK2OlHwH",
        "colab": {
          "base_uri": "https://localhost:8080/"
        },
        "outputId": "7e64959e-fbfb-4a84-dbad-bb1b6ed0890d"
      },
      "source": [
        "'''def area(length,width):\n",
        "    return length*width, 2*(length+width)\n",
        "are,p = area(10,20)\n",
        "print(\"Area of rectangle:   \",p)'''"
      ],
      "execution_count": null,
      "outputs": [
        {
          "output_type": "stream",
          "name": "stdout",
          "text": [
            "Area of rectangle:    60\n"
          ]
        }
      ]
    },
    {
      "cell_type": "markdown",
      "source": [
        "Problem: write a function to find wether a given number is prime or not. use this function to find first 1000 prime number.\n"
      ],
      "metadata": {
        "id": "XqlQL0OvA08F"
      }
    },
    {
      "cell_type": "code",
      "source": [
        "%%time\n",
        "def prime(number):\n",
        "  for i in range(2, int(number)):\n",
        "    if (number%i ==0):\n",
        "      return False\n",
        "  return True\n",
        "count = 0\n",
        "num = 2\n",
        "while (count != 1000):\n",
        "  if (prime(num)):\n",
        "    #print(num)\n",
        "    count = count + 1\n",
        "  num = num + 1\n",
        "\n",
        "\n",
        "\n",
        "\n"
      ],
      "metadata": {
        "colab": {
          "base_uri": "https://localhost:8080/"
        },
        "id": "EFBBt-EtAtFN",
        "outputId": "60a1bdbe-924c-4a5d-c285-7af2d840cdd6"
      },
      "execution_count": null,
      "outputs": [
        {
          "output_type": "stream",
          "name": "stdout",
          "text": [
            "CPU times: user 319 ms, sys: 0 ns, total: 319 ms\n",
            "Wall time: 330 ms\n"
          ]
        }
      ]
    },
    {
      "cell_type": "markdown",
      "metadata": {
        "collapsed": true,
        "id": "ZgoxCkRblHwL"
      },
      "source": [
        "### Broadcasting\n",
        "* Subject to certain constraints, the smaller array is “broadcast” across the larger array so that they have compatible shapes\n",
        "\n",
        "### NumPy\n",
        "* Numpy is the fundamental package for numerical computing with Python. It contains among other things:\n",
        "* a powerful N-dimensional array object\n",
        "* sophisticated (broadcasting) functions\n",
        "* tools for integrating C/C++ and Fortran code\n",
        "* useful linear algebra, Fourier transform, and random number capabilities"
      ]
    },
    {
      "cell_type": "code",
      "metadata": {
        "trusted": true,
        "id": "Ik6iv5SplHwM",
        "colab": {
          "base_uri": "https://localhost:8080/"
        },
        "outputId": "54800c3a-5625-4925-f4ee-cb3dbf1c2487"
      },
      "source": [
        "import numpy as np   # Importing libraries\n",
        "\n",
        "a = np.array([0, 1, 2])\n",
        "b = np.array([5, 5, 5])\n",
        "\n",
        "print(\"Matrix A\\n\", a)\n",
        "print(\"Matrix B\\n\", b)\n",
        "\n",
        "print(\"Regular matrix addition A+B\\n\", a + b)\n",
        "\n",
        "print(\"Addition using Broadcasting A+5\\n\", a + 5)\n",
        "\n",
        "print(\"Dot product\", (a.T).dot(b))"
      ],
      "execution_count": null,
      "outputs": [
        {
          "output_type": "stream",
          "name": "stdout",
          "text": [
            "Matrix A\n",
            " [0 1 2]\n",
            "Matrix B\n",
            " [5 5 5]\n",
            "Regular matrix addition A+B\n",
            " [5 6 7]\n",
            "Addition using Broadcasting A+5\n",
            " [5 6 7]\n",
            "Dot product 15\n"
          ]
        }
      ]
    },
    {
      "cell_type": "markdown",
      "metadata": {
        "id": "25iLVsFJlHwQ"
      },
      "source": [
        "### Broadcasting Rules\n",
        "When operating on two arrays, NumPy compares their shapes element-wise. It starts with the trailing dimensions, and works its way forward. Two dimensions are compatible when\n",
        "\n",
        "1. they are equal, or\n",
        "2.  one of them is 1\n"
      ]
    },
    {
      "cell_type": "code",
      "metadata": {
        "trusted": true,
        "id": "WXlsv8LWlHwR",
        "colab": {
          "base_uri": "https://localhost:8080/"
        },
        "outputId": "b1a01e68-22f9-49b7-f7e3-f0dd7ccf87e6"
      },
      "source": [
        "# Lets go for a 2D matrix\n",
        "c = np.array([[0, 1, 2],[3, 4, 5],[6, 7, 8]])\n",
        "d = np.array([[1, 2, 3],[1, 2, 3],[1, 2, 3]])\n",
        "\n",
        "e = np.array([1, 2, 3])\n",
        "\n",
        "print(\"Matrix C\\n\", c)\n",
        "print(\"Matrix D\\n\", d)\n",
        "print(\"Matrix E\\n\", e)\n",
        "\n",
        "print(\"Regular matrix addition C+D\\n\", c + d)\n",
        "\n",
        "print(\"Addition using Broadcasting C+E\\n\", c + e)\n",
        "\n",
        "print(\"Dot product\", e.dot(d))"
      ],
      "execution_count": null,
      "outputs": [
        {
          "output_type": "stream",
          "name": "stdout",
          "text": [
            "Matrix C\n",
            " [[0 1 2]\n",
            " [3 4 5]\n",
            " [6 7 8]]\n",
            "Matrix D\n",
            " [[1 2 3]\n",
            " [1 2 3]\n",
            " [1 2 3]]\n",
            "Matrix E\n",
            " [1 2 3]\n",
            "Regular matrix addition C+D\n",
            " [[ 1  3  5]\n",
            " [ 4  6  8]\n",
            " [ 7  9 11]]\n",
            "Addition using Broadcasting C+E\n",
            " [[ 1  3  5]\n",
            " [ 4  6  8]\n",
            " [ 7  9 11]]\n",
            "Dot product [ 6 12 18]\n"
          ]
        }
      ]
    },
    {
      "cell_type": "code",
      "metadata": {
        "trusted": false,
        "id": "symRvPfulHwX",
        "colab": {
          "base_uri": "https://localhost:8080/"
        },
        "outputId": "bc68cbc5-14f3-4001-be01-8ef1d0039d49"
      },
      "source": [
        "M = np.ones((3, 3))\n",
        "print(\"Matrix M:\\n\",M)"
      ],
      "execution_count": null,
      "outputs": [
        {
          "output_type": "stream",
          "name": "stdout",
          "text": [
            "Matrix M:\n",
            " [[1. 1. 1.]\n",
            " [1. 1. 1.]\n",
            " [1. 1. 1.]]\n"
          ]
        }
      ]
    },
    {
      "cell_type": "code",
      "metadata": {
        "scrolled": true,
        "trusted": false,
        "id": "5JZni7N3lHwc",
        "colab": {
          "base_uri": "https://localhost:8080/"
        },
        "outputId": "11736158-3781-4b9f-dfdb-c1dd926ecc20"
      },
      "source": [
        "print(\"Dimension of M: \",M.shape)\n",
        "print(\"Dimension of a: \",a.shape)\n",
        "print(\"Addition using Broadcasting\")\n",
        "print(M + a)\n",
        "# Broadcasting array with matrix"
      ],
      "execution_count": null,
      "outputs": [
        {
          "output_type": "stream",
          "name": "stdout",
          "text": [
            "Dimension of M:  (3, 3)\n",
            "Dimension of a:  (3,)\n",
            "Addition using Broadcasting\n",
            "[[1. 2. 3.]\n",
            " [1. 2. 3.]\n",
            " [1. 2. 3.]]\n"
          ]
        }
      ]
    },
    {
      "cell_type": "markdown",
      "metadata": {
        "id": "z-miOkfBlHwg"
      },
      "source": [
        "## All in one program"
      ]
    },
    {
      "cell_type": "code",
      "metadata": {
        "trusted": true,
        "id": "FUahffvvlHwh",
        "colab": {
          "base_uri": "https://localhost:8080/",
          "height": 218
        },
        "outputId": "79edd5d6-e958-4e52-cf9b-51910ee3d14f"
      },
      "source": [
        "# Importing libraries\n",
        "import timeit\n",
        "\n",
        "# Usage of builtin functions\n",
        "start = timeit.default_timer()\n",
        "\n",
        "# Defining a list\n",
        "array_list = [10,11,15,19,21,32]\n",
        "array_np_list = []\n",
        "\n",
        "# Print the list\n",
        "print(\"Original List\",array_list,\"\\n\")\n",
        "\n",
        "# Defining a function\n",
        "def prime(num):\n",
        "    if num > 1:\n",
        "\n",
        "        # check for factors\n",
        "        # Iterating a range of numbers\n",
        "        for i in range(2,num):\n",
        "            if (num % i) == 0:\n",
        "\n",
        "                # Appending data to list\n",
        "                array_np_list.append(num)\n",
        "                print(num,\"is not a prime number (\",i,\"times\",num//i,\"is\",num,\")\")\n",
        "\n",
        "                # Terminating a loop run\n",
        "                break\n",
        "        else:\n",
        "            print(num,\"is a prime number\")\n",
        "\n",
        "# Iterating a list\n",
        "for item in array_list:\n",
        "\n",
        "    # Calling a function\n",
        "    prime(item)\n",
        "\n",
        "print(\"\\nNon-prime List\",array_np_list,\"\\n\")\n",
        "\n",
        "end = timeit.default_timer()\n",
        "\n",
        "# Computing running time\n",
        "print(\"Time Taken to run the program:\",end - start, \"seconds\")"
      ],
      "execution_count": null,
      "outputs": [
        {
          "output_type": "stream",
          "text": [
            "Original List [10, 11, 15, 19, 21, 32] \n",
            "\n",
            "10 is not a prime number ( 2 times 5 is 10 )\n",
            "11 is a prime number\n",
            "15 is not a prime number ( 3 times 5 is 15 )\n",
            "19 is a prime number\n",
            "21 is not a prime number ( 3 times 7 is 21 )\n",
            "32 is not a prime number ( 2 times 16 is 32 )\n",
            "\n",
            "Non-prime List [10, 15, 21, 32] \n",
            "\n",
            "Time Taken to run the program: 0.006681809000156136 seconds\n"
          ],
          "name": "stdout"
        }
      ]
    },
    {
      "cell_type": "markdown",
      "metadata": {
        "id": "fWuFzGNxlHwk"
      },
      "source": [
        "### Note:\n",
        "* Python is a procedural Language\n",
        "* Two versions of Python 2 vs 3\n",
        "* No braces. i.e. indentation\n",
        "* No need to explicitly mention data type"
      ]
    },
    {
      "cell_type": "markdown",
      "metadata": {
        "id": "C-gV-2t2lHwl"
      },
      "source": [
        "## Unvectorized vs Vectorized Implementations"
      ]
    },
    {
      "cell_type": "code",
      "metadata": {
        "trusted": true,
        "id": "dOQRsY5glHwm",
        "colab": {
          "base_uri": "https://localhost:8080/",
          "height": 134
        },
        "outputId": "236cab10-aa97-4921-f331-84adc5579e9e"
      },
      "source": [
        "# Importing libraries\n",
        "import numpy as np\n",
        "\n",
        "# Defining matrices\n",
        "mat_a = [[6, 7, 8],[5, 4, 5],[1, 1, 1]]\n",
        "mat_b = [[1, 2, 3],[1, 2, 3],[1, 2, 3]]\n",
        "\n",
        "# Getting a row from matrix\n",
        "def get_row(matrix, row):\n",
        "    return matrix[row]\n",
        "\n",
        "# Getting a coloumn from matrix\n",
        "def get_column(matrix, column_number):\n",
        "    column = []\n",
        "\n",
        "    for i in range(len(matrix)):\n",
        "        column.append(matrix[i][column_number])\n",
        "\n",
        "    return column\n",
        "\n",
        "# Multiply a row with coloumn\n",
        "def unv_dot_product(vector_one, vector_two):\n",
        "    total = 0\n",
        "\n",
        "    if len(vector_one) != len(vector_two):\n",
        "        return total\n",
        "\n",
        "    for i in range(len(vector_one)):\n",
        "        product = vector_one[i] * vector_two[i]\n",
        "        total += product\n",
        "\n",
        "    return total\n",
        "\n",
        "# Multiply two matrixes\n",
        "def matrix_multiplication(matrix_one, matrix_two):\n",
        "    m_rows = len(matrix_one)\n",
        "    p_columns = len(matrix_two[0])\n",
        "    result = []\n",
        "\n",
        "    for i in range(m_rows):\n",
        "        row_result = []\n",
        "\n",
        "        for j in range(p_columns):\n",
        "            row = get_row(matrix_one, i)\n",
        "            column = get_column(matrix_two, j)\n",
        "            product = unv_dot_product(row, column)\n",
        "\n",
        "            row_result.append(product)\n",
        "        result.append(row_result)\n",
        "\n",
        "    return result\n",
        "\n",
        "print(\"Matrix A: \", mat_a,\"\\n\")\n",
        "print(\"Matrix B: \", mat_b,\"\\n\")\n",
        "\n",
        "print(\"Unvectorized Matrix Multiplication\\n\",matrix_multiplication(mat_a,mat_b),\"\\n\")\n"
      ],
      "execution_count": null,
      "outputs": [
        {
          "output_type": "stream",
          "text": [
            "Matrix A:  [[6, 7, 8], [5, 4, 5], [1, 1, 1]] \n",
            "\n",
            "Matrix B:  [[1, 2, 3], [1, 2, 3], [1, 2, 3]] \n",
            "\n",
            "Unvectorized Matrix Multiplication\n",
            " [[21, 42, 63], [14, 28, 42], [3, 6, 9]] \n",
            "\n"
          ],
          "name": "stdout"
        }
      ]
    },
    {
      "cell_type": "code",
      "metadata": {
        "trusted": false,
        "id": "3bgVbn77lHwu",
        "outputId": "33e4e41d-20a0-402f-8f4b-bbc9af7b77f8"
      },
      "source": [
        "# Vectorized Implementation\n",
        "npm_a = np.array(mat_a)\n",
        "npm_b = np.array(mat_b)\n",
        "\n",
        "print(\"Vectorized Matrix Multiplication\\n\",npm_a.dot(npm_b),\"\\n\")\n",
        "# A.dot(B) is a numpy built-in function for dot product"
      ],
      "execution_count": null,
      "outputs": [
        {
          "output_type": "stream",
          "text": [
            "Vectorized Matrix Multiplication\n",
            " [[21 42 63]\n",
            " [14 28 42]\n",
            " [ 3  6  9]] \n",
            "\n"
          ],
          "name": "stdout"
        }
      ]
    },
    {
      "cell_type": "markdown",
      "metadata": {
        "id": "p_GWbY3GlHw0"
      },
      "source": [
        "### Tip:\n",
        "* Vectorization reduces number of lines of code\n",
        "* Always prefer libraries and avoid coding from scratch"
      ]
    },
    {
      "cell_type": "markdown",
      "metadata": {
        "id": "jUWeOLaBlHw1"
      },
      "source": [
        "## Essential Python Packages: Numpy, Pandas, Matplotlib"
      ]
    },
    {
      "cell_type": "code",
      "metadata": {
        "trusted": true,
        "id": "aSp99aDxlHw2"
      },
      "source": [
        "# Load library\n",
        "import numpy as np"
      ],
      "execution_count": null,
      "outputs": []
    },
    {
      "cell_type": "code",
      "metadata": {
        "trusted": true,
        "id": "k3b5ped_lHw4",
        "colab": {
          "base_uri": "https://localhost:8080/",
          "height": 50
        },
        "outputId": "0bbf6c3b-f17d-4f4e-b982-ae98e954f357"
      },
      "source": [
        "# Create row vector\n",
        "vector = np.array([1, 2, 3, 4, 5, 6])\n",
        "print(\"Vector:\",vector)\n",
        "\n",
        "# Select second element\n",
        "print(\"Element 2 in Vector is\",vector[1])"
      ],
      "execution_count": null,
      "outputs": [
        {
          "output_type": "stream",
          "text": [
            "Vector: [1 2 3 4 5 6]\n",
            "Element 2 in Vector is 2\n"
          ],
          "name": "stdout"
        }
      ]
    },
    {
      "cell_type": "code",
      "metadata": {
        "trusted": true,
        "id": "imGSwiRBlHw8",
        "colab": {
          "base_uri": "https://localhost:8080/",
          "height": 151
        },
        "outputId": "7d1f46ee-39e3-4f43-c064-56ca20b42175"
      },
      "source": [
        "# Create matrix\n",
        "matrix = np.array([[1, 2, 3],\n",
        "                   [4, 5, 6],\n",
        "                   [7, 8, 9]])\n",
        "\n",
        "print(\"Matrix\\n\",matrix)\n",
        "\n",
        "# Select second row\n",
        "print(\"Second row of Matrix\\n\",matrix[1,:])\n",
        "print(\"Third coloumn of Matrix\\n\",matrix[:,2])"
      ],
      "execution_count": null,
      "outputs": [
        {
          "output_type": "stream",
          "text": [
            "Matrix\n",
            " [[1 2 3]\n",
            " [4 5 6]\n",
            " [7 8 9]]\n",
            "Second row of Matrix\n",
            " [4 5 6]\n",
            "Third coloumn of Matrix\n",
            " [3 6 9]\n"
          ],
          "name": "stdout"
        }
      ]
    },
    {
      "cell_type": "code",
      "metadata": {
        "trusted": true,
        "id": "60qmQLrAlHxA",
        "colab": {
          "base_uri": "https://localhost:8080/",
          "height": 50
        },
        "outputId": "90b6528c-3269-47fe-f01e-9fc6dd9bea60"
      },
      "source": [
        "# Create Tensor\n",
        "tensor = np.array([ [[[1, 1], [1, 1]], [[2, 2], [2, 2]]],\n",
        "                    [[[3, 3], [3, 3]], [[4, 4], [4, 4]]] ])\n",
        "\n",
        "print(\"Tensor\\n\",tensor.shape)"
      ],
      "execution_count": null,
      "outputs": [
        {
          "output_type": "stream",
          "text": [
            "Tensor\n",
            " (2, 2, 2, 2)\n"
          ],
          "name": "stdout"
        }
      ]
    },
    {
      "cell_type": "markdown",
      "metadata": {
        "id": "thGRrCYQlHxJ"
      },
      "source": [
        "### Matrix properties"
      ]
    },
    {
      "cell_type": "code",
      "metadata": {
        "trusted": true,
        "id": "8mKk1ebilHxK",
        "outputId": "2734fd36-6b7e-46ee-a258-158e5ca03726"
      },
      "source": [
        "# Create matrix\n",
        "matrix = np.array([[1, 2, 3],\n",
        "                   [4, 5, 6],\n",
        "                   [7, 8, 9]])\n",
        "\n",
        "print(\"Matrix Shape:\",matrix.shape)\n",
        "print(\"Number of elements:\",matrix.size)\n",
        "print(\"Number of dimentions:\",matrix.ndim)\n",
        "print(\"Average of matrix:\",np.mean(matrix))\n",
        "print(\"Maximum number:\",np.max(matrix))\n",
        "print(\"Coloumn with minimum numbers:\",np.min(matrix, axis=1))\n",
        "print(\"Diagnol of matrix:\",matrix.diagonal())\n",
        "print(\"Determinant of matrix:\",np.linalg.det(matrix))"
      ],
      "execution_count": null,
      "outputs": [
        {
          "output_type": "stream",
          "text": [
            "Matrix Shape: (3, 3)\n",
            "Number of elements: 9\n",
            "Number of dimentions: 2\n",
            "Average of matrix: 5.0\n",
            "Maximum number: 9\n",
            "Coloumn with minimum numbers: [1 4 7]\n",
            "Diagnol of matrix: [1 5 9]\n",
            "Determinant of matrix: 0.0\n"
          ],
          "name": "stdout"
        }
      ]
    },
    {
      "cell_type": "markdown",
      "metadata": {
        "id": "t_nuUdCtlHxP"
      },
      "source": [
        "### Matrix Operations"
      ]
    },
    {
      "cell_type": "code",
      "metadata": {
        "trusted": true,
        "id": "h5jIGkbklHxQ",
        "colab": {
          "base_uri": "https://localhost:8080/",
          "height": 286
        },
        "outputId": "a367ccb2-4783-48b7-a021-110753c16946"
      },
      "source": [
        "print(\"Flattened Matrix\\n\",matrix.flatten())\n",
        "print(\"Reshaping Matrix\\n\",matrix.reshape(9,1))\n",
        "print(\"Transposed Matrix\\n\",matrix.T)"
      ],
      "execution_count": null,
      "outputs": [
        {
          "output_type": "stream",
          "text": [
            "Flattened Matrix\n",
            " [1 2 3 4 5 6 7 8 9]\n",
            "Reshaping Matrix\n",
            " [[1]\n",
            " [2]\n",
            " [3]\n",
            " [4]\n",
            " [5]\n",
            " [6]\n",
            " [7]\n",
            " [8]\n",
            " [9]]\n",
            "Transposed Matrix\n",
            " [[1 4 7]\n",
            " [2 5 8]\n",
            " [3 6 9]]\n"
          ],
          "name": "stdout"
        }
      ]
    },
    {
      "cell_type": "code",
      "metadata": {
        "trusted": false,
        "id": "BYwDBjy7lHxX",
        "outputId": "f853d72c-bf82-4a54-f629-eebcaa621604"
      },
      "source": [
        "# Create matrix\n",
        "matrix_a = np.array([[1, 1, 1],\n",
        "                     [1, 1, 1],\n",
        "                     [1, 1, 2]])\n",
        "\n",
        "# Create matrix\n",
        "matrix_b = np.array([[1, 3, 1],\n",
        "                     [1, 3, 1],\n",
        "                     [1, 3, 8]])\n",
        "\n",
        "print(\"Matrix Addition\\n\",np.add(matrix_a, matrix_b))\n",
        "print(\"Scalar Multiplication\\n\",np.multiply(matrix_a, matrix_b))\n",
        "print(\"Matrix Multiplication\\n\",np.dot(matrix_a, matrix_b))"
      ],
      "execution_count": null,
      "outputs": [
        {
          "output_type": "stream",
          "text": [
            "Matrix Addition\n",
            " [[ 2  4  2]\n",
            " [ 2  4  2]\n",
            " [ 2  4 10]]\n",
            "Scalar Multiplication\n",
            " [[ 1  3  1]\n",
            " [ 1  3  1]\n",
            " [ 1  3 16]]\n",
            "Matrix Addition\n",
            " [[ 3  9 10]\n",
            " [ 3  9 10]\n",
            " [ 4 12 18]]\n"
          ],
          "name": "stdout"
        }
      ]
    },
    {
      "cell_type": "markdown",
      "metadata": {
        "id": "6o0SHJwHlHxb"
      },
      "source": [
        "### Pandas"
      ]
    },
    {
      "cell_type": "code",
      "metadata": {
        "id": "PGkqvnrTlWvw",
        "colab": {
          "base_uri": "https://localhost:8080/"
        },
        "outputId": "6f938b8d-0055-42d0-df8f-6a9282ad6f84"
      },
      "source": [
        "!wget https://github.com/mishravipul/data/raw/main/winedata.csv"
      ],
      "execution_count": null,
      "outputs": [
        {
          "output_type": "stream",
          "name": "stdout",
          "text": [
            "--2022-09-20 08:56:16--  https://github.com/mishravipul/data/raw/main/winedata.csv\n",
            "Resolving github.com (github.com)... 192.30.255.112\n",
            "Connecting to github.com (github.com)|192.30.255.112|:443... connected.\n",
            "HTTP request sent, awaiting response... 302 Found\n",
            "Location: https://raw.githubusercontent.com/mishravipul/data/main/winedata.csv [following]\n",
            "--2022-09-20 08:56:16--  https://raw.githubusercontent.com/mishravipul/data/main/winedata.csv\n",
            "Resolving raw.githubusercontent.com (raw.githubusercontent.com)... 185.199.109.133, 185.199.111.133, 185.199.108.133, ...\n",
            "Connecting to raw.githubusercontent.com (raw.githubusercontent.com)|185.199.109.133|:443... connected.\n",
            "HTTP request sent, awaiting response... 200 OK\n",
            "Length: 11488 (11K) [text/plain]\n",
            "Saving to: ‘winedata.csv’\n",
            "\n",
            "winedata.csv        100%[===================>]  11.22K  --.-KB/s    in 0s      \n",
            "\n",
            "2022-09-20 08:56:16 (93.0 MB/s) - ‘winedata.csv’ saved [11488/11488]\n",
            "\n"
          ]
        }
      ]
    },
    {
      "cell_type": "code",
      "metadata": {
        "trusted": true,
        "id": "SmPnBf6ulHxc"
      },
      "source": [
        "import pandas as pd\n",
        "import numpy as np\n"
      ],
      "execution_count": null,
      "outputs": []
    },
    {
      "cell_type": "code",
      "metadata": {
        "trusted": true,
        "id": "Ygbg5_EVlHxe",
        "colab": {
          "base_uri": "https://localhost:8080/",
          "height": 559
        },
        "outputId": "62c280a0-32cd-4a89-9746-c43562e8640b"
      },
      "source": [
        "df=pd.read_csv(\"winedata.csv\")\n",
        "print(\"Data\\n\")\n",
        "df"
      ],
      "execution_count": null,
      "outputs": [
        {
          "output_type": "stream",
          "name": "stdout",
          "text": [
            "Data\n",
            "\n"
          ]
        },
        {
          "output_type": "execute_result",
          "data": {
            "text/plain": [
              "     Category  Alcohol  Malic acid   Ash  Alcalinity of ash  Magnesium  \\\n",
              "0           1    14.23        1.71  2.43               15.6        127   \n",
              "1           1    13.20        1.78  2.14               11.2        100   \n",
              "2           1    13.16        2.36  2.67               18.6        101   \n",
              "3           1    14.37        1.95  2.50               16.8        113   \n",
              "4           2    11.96        1.09  2.30               21.0        101   \n",
              "..        ...      ...         ...   ...                ...        ...   \n",
              "173         3    13.71        5.65  2.45               20.5         95   \n",
              "174         3    13.40        3.91  2.48               23.0        102   \n",
              "175         3    13.27        4.28  2.26               20.0        120   \n",
              "176         3    13.17        2.59  2.37               20.0        120   \n",
              "177         3    14.13        4.10  2.74               24.5         96   \n",
              "\n",
              "     Total phenols  Flavanoids  Nonflavanoid phenols  Proanthocyanins  \\\n",
              "0             2.80        3.06                  0.28             2.29   \n",
              "1             2.65        2.76                  0.26             1.28   \n",
              "2             2.80        3.24                  0.30             2.81   \n",
              "3             3.85        3.49                  0.24             2.18   \n",
              "4             3.38        2.14                  0.13             1.65   \n",
              "..             ...         ...                   ...              ...   \n",
              "173           1.68        0.61                  0.52             1.06   \n",
              "174           1.80        0.75                  0.43             1.41   \n",
              "175           1.59        0.69                  0.43             1.35   \n",
              "176           1.65        0.68                  0.53             1.46   \n",
              "177           2.05        0.76                  0.56             1.35   \n",
              "\n",
              "     Color intensity   Hue  OD280/OD315 of diluted wines  Proline   \n",
              "0               5.64  1.04                          3.92      1065  \n",
              "1               4.38  1.05                          3.40      1050  \n",
              "2               5.68  1.03                          3.17      1185  \n",
              "3               7.80  0.86                          3.45      1480  \n",
              "4               3.21  0.99                          3.13       886  \n",
              "..               ...   ...                           ...       ...  \n",
              "173             7.70  0.64                          1.74       740  \n",
              "174             7.30  0.70                          1.56       750  \n",
              "175            10.20  0.59                          1.56       835  \n",
              "176             9.30  0.60                          1.62       840  \n",
              "177             9.20  0.61                          1.60       560  \n",
              "\n",
              "[178 rows x 14 columns]"
            ],
            "text/html": [
              "\n",
              "  <div id=\"df-db16d46d-c539-44f2-b50d-6db8f050c10f\">\n",
              "    <div class=\"colab-df-container\">\n",
              "      <div>\n",
              "<style scoped>\n",
              "    .dataframe tbody tr th:only-of-type {\n",
              "        vertical-align: middle;\n",
              "    }\n",
              "\n",
              "    .dataframe tbody tr th {\n",
              "        vertical-align: top;\n",
              "    }\n",
              "\n",
              "    .dataframe thead th {\n",
              "        text-align: right;\n",
              "    }\n",
              "</style>\n",
              "<table border=\"1\" class=\"dataframe\">\n",
              "  <thead>\n",
              "    <tr style=\"text-align: right;\">\n",
              "      <th></th>\n",
              "      <th>Category</th>\n",
              "      <th>Alcohol</th>\n",
              "      <th>Malic acid</th>\n",
              "      <th>Ash</th>\n",
              "      <th>Alcalinity of ash</th>\n",
              "      <th>Magnesium</th>\n",
              "      <th>Total phenols</th>\n",
              "      <th>Flavanoids</th>\n",
              "      <th>Nonflavanoid phenols</th>\n",
              "      <th>Proanthocyanins</th>\n",
              "      <th>Color intensity</th>\n",
              "      <th>Hue</th>\n",
              "      <th>OD280/OD315 of diluted wines</th>\n",
              "      <th>Proline</th>\n",
              "    </tr>\n",
              "  </thead>\n",
              "  <tbody>\n",
              "    <tr>\n",
              "      <th>0</th>\n",
              "      <td>1</td>\n",
              "      <td>14.23</td>\n",
              "      <td>1.71</td>\n",
              "      <td>2.43</td>\n",
              "      <td>15.6</td>\n",
              "      <td>127</td>\n",
              "      <td>2.80</td>\n",
              "      <td>3.06</td>\n",
              "      <td>0.28</td>\n",
              "      <td>2.29</td>\n",
              "      <td>5.64</td>\n",
              "      <td>1.04</td>\n",
              "      <td>3.92</td>\n",
              "      <td>1065</td>\n",
              "    </tr>\n",
              "    <tr>\n",
              "      <th>1</th>\n",
              "      <td>1</td>\n",
              "      <td>13.20</td>\n",
              "      <td>1.78</td>\n",
              "      <td>2.14</td>\n",
              "      <td>11.2</td>\n",
              "      <td>100</td>\n",
              "      <td>2.65</td>\n",
              "      <td>2.76</td>\n",
              "      <td>0.26</td>\n",
              "      <td>1.28</td>\n",
              "      <td>4.38</td>\n",
              "      <td>1.05</td>\n",
              "      <td>3.40</td>\n",
              "      <td>1050</td>\n",
              "    </tr>\n",
              "    <tr>\n",
              "      <th>2</th>\n",
              "      <td>1</td>\n",
              "      <td>13.16</td>\n",
              "      <td>2.36</td>\n",
              "      <td>2.67</td>\n",
              "      <td>18.6</td>\n",
              "      <td>101</td>\n",
              "      <td>2.80</td>\n",
              "      <td>3.24</td>\n",
              "      <td>0.30</td>\n",
              "      <td>2.81</td>\n",
              "      <td>5.68</td>\n",
              "      <td>1.03</td>\n",
              "      <td>3.17</td>\n",
              "      <td>1185</td>\n",
              "    </tr>\n",
              "    <tr>\n",
              "      <th>3</th>\n",
              "      <td>1</td>\n",
              "      <td>14.37</td>\n",
              "      <td>1.95</td>\n",
              "      <td>2.50</td>\n",
              "      <td>16.8</td>\n",
              "      <td>113</td>\n",
              "      <td>3.85</td>\n",
              "      <td>3.49</td>\n",
              "      <td>0.24</td>\n",
              "      <td>2.18</td>\n",
              "      <td>7.80</td>\n",
              "      <td>0.86</td>\n",
              "      <td>3.45</td>\n",
              "      <td>1480</td>\n",
              "    </tr>\n",
              "    <tr>\n",
              "      <th>4</th>\n",
              "      <td>2</td>\n",
              "      <td>11.96</td>\n",
              "      <td>1.09</td>\n",
              "      <td>2.30</td>\n",
              "      <td>21.0</td>\n",
              "      <td>101</td>\n",
              "      <td>3.38</td>\n",
              "      <td>2.14</td>\n",
              "      <td>0.13</td>\n",
              "      <td>1.65</td>\n",
              "      <td>3.21</td>\n",
              "      <td>0.99</td>\n",
              "      <td>3.13</td>\n",
              "      <td>886</td>\n",
              "    </tr>\n",
              "    <tr>\n",
              "      <th>...</th>\n",
              "      <td>...</td>\n",
              "      <td>...</td>\n",
              "      <td>...</td>\n",
              "      <td>...</td>\n",
              "      <td>...</td>\n",
              "      <td>...</td>\n",
              "      <td>...</td>\n",
              "      <td>...</td>\n",
              "      <td>...</td>\n",
              "      <td>...</td>\n",
              "      <td>...</td>\n",
              "      <td>...</td>\n",
              "      <td>...</td>\n",
              "      <td>...</td>\n",
              "    </tr>\n",
              "    <tr>\n",
              "      <th>173</th>\n",
              "      <td>3</td>\n",
              "      <td>13.71</td>\n",
              "      <td>5.65</td>\n",
              "      <td>2.45</td>\n",
              "      <td>20.5</td>\n",
              "      <td>95</td>\n",
              "      <td>1.68</td>\n",
              "      <td>0.61</td>\n",
              "      <td>0.52</td>\n",
              "      <td>1.06</td>\n",
              "      <td>7.70</td>\n",
              "      <td>0.64</td>\n",
              "      <td>1.74</td>\n",
              "      <td>740</td>\n",
              "    </tr>\n",
              "    <tr>\n",
              "      <th>174</th>\n",
              "      <td>3</td>\n",
              "      <td>13.40</td>\n",
              "      <td>3.91</td>\n",
              "      <td>2.48</td>\n",
              "      <td>23.0</td>\n",
              "      <td>102</td>\n",
              "      <td>1.80</td>\n",
              "      <td>0.75</td>\n",
              "      <td>0.43</td>\n",
              "      <td>1.41</td>\n",
              "      <td>7.30</td>\n",
              "      <td>0.70</td>\n",
              "      <td>1.56</td>\n",
              "      <td>750</td>\n",
              "    </tr>\n",
              "    <tr>\n",
              "      <th>175</th>\n",
              "      <td>3</td>\n",
              "      <td>13.27</td>\n",
              "      <td>4.28</td>\n",
              "      <td>2.26</td>\n",
              "      <td>20.0</td>\n",
              "      <td>120</td>\n",
              "      <td>1.59</td>\n",
              "      <td>0.69</td>\n",
              "      <td>0.43</td>\n",
              "      <td>1.35</td>\n",
              "      <td>10.20</td>\n",
              "      <td>0.59</td>\n",
              "      <td>1.56</td>\n",
              "      <td>835</td>\n",
              "    </tr>\n",
              "    <tr>\n",
              "      <th>176</th>\n",
              "      <td>3</td>\n",
              "      <td>13.17</td>\n",
              "      <td>2.59</td>\n",
              "      <td>2.37</td>\n",
              "      <td>20.0</td>\n",
              "      <td>120</td>\n",
              "      <td>1.65</td>\n",
              "      <td>0.68</td>\n",
              "      <td>0.53</td>\n",
              "      <td>1.46</td>\n",
              "      <td>9.30</td>\n",
              "      <td>0.60</td>\n",
              "      <td>1.62</td>\n",
              "      <td>840</td>\n",
              "    </tr>\n",
              "    <tr>\n",
              "      <th>177</th>\n",
              "      <td>3</td>\n",
              "      <td>14.13</td>\n",
              "      <td>4.10</td>\n",
              "      <td>2.74</td>\n",
              "      <td>24.5</td>\n",
              "      <td>96</td>\n",
              "      <td>2.05</td>\n",
              "      <td>0.76</td>\n",
              "      <td>0.56</td>\n",
              "      <td>1.35</td>\n",
              "      <td>9.20</td>\n",
              "      <td>0.61</td>\n",
              "      <td>1.60</td>\n",
              "      <td>560</td>\n",
              "    </tr>\n",
              "  </tbody>\n",
              "</table>\n",
              "<p>178 rows × 14 columns</p>\n",
              "</div>\n",
              "      <button class=\"colab-df-convert\" onclick=\"convertToInteractive('df-db16d46d-c539-44f2-b50d-6db8f050c10f')\"\n",
              "              title=\"Convert this dataframe to an interactive table.\"\n",
              "              style=\"display:none;\">\n",
              "        \n",
              "  <svg xmlns=\"http://www.w3.org/2000/svg\" height=\"24px\"viewBox=\"0 0 24 24\"\n",
              "       width=\"24px\">\n",
              "    <path d=\"M0 0h24v24H0V0z\" fill=\"none\"/>\n",
              "    <path d=\"M18.56 5.44l.94 2.06.94-2.06 2.06-.94-2.06-.94-.94-2.06-.94 2.06-2.06.94zm-11 1L8.5 8.5l.94-2.06 2.06-.94-2.06-.94L8.5 2.5l-.94 2.06-2.06.94zm10 10l.94 2.06.94-2.06 2.06-.94-2.06-.94-.94-2.06-.94 2.06-2.06.94z\"/><path d=\"M17.41 7.96l-1.37-1.37c-.4-.4-.92-.59-1.43-.59-.52 0-1.04.2-1.43.59L10.3 9.45l-7.72 7.72c-.78.78-.78 2.05 0 2.83L4 21.41c.39.39.9.59 1.41.59.51 0 1.02-.2 1.41-.59l7.78-7.78 2.81-2.81c.8-.78.8-2.07 0-2.86zM5.41 20L4 18.59l7.72-7.72 1.47 1.35L5.41 20z\"/>\n",
              "  </svg>\n",
              "      </button>\n",
              "      \n",
              "  <style>\n",
              "    .colab-df-container {\n",
              "      display:flex;\n",
              "      flex-wrap:wrap;\n",
              "      gap: 12px;\n",
              "    }\n",
              "\n",
              "    .colab-df-convert {\n",
              "      background-color: #E8F0FE;\n",
              "      border: none;\n",
              "      border-radius: 50%;\n",
              "      cursor: pointer;\n",
              "      display: none;\n",
              "      fill: #1967D2;\n",
              "      height: 32px;\n",
              "      padding: 0 0 0 0;\n",
              "      width: 32px;\n",
              "    }\n",
              "\n",
              "    .colab-df-convert:hover {\n",
              "      background-color: #E2EBFA;\n",
              "      box-shadow: 0px 1px 2px rgba(60, 64, 67, 0.3), 0px 1px 3px 1px rgba(60, 64, 67, 0.15);\n",
              "      fill: #174EA6;\n",
              "    }\n",
              "\n",
              "    [theme=dark] .colab-df-convert {\n",
              "      background-color: #3B4455;\n",
              "      fill: #D2E3FC;\n",
              "    }\n",
              "\n",
              "    [theme=dark] .colab-df-convert:hover {\n",
              "      background-color: #434B5C;\n",
              "      box-shadow: 0px 1px 3px 1px rgba(0, 0, 0, 0.15);\n",
              "      filter: drop-shadow(0px 1px 2px rgba(0, 0, 0, 0.3));\n",
              "      fill: #FFFFFF;\n",
              "    }\n",
              "  </style>\n",
              "\n",
              "      <script>\n",
              "        const buttonEl =\n",
              "          document.querySelector('#df-db16d46d-c539-44f2-b50d-6db8f050c10f button.colab-df-convert');\n",
              "        buttonEl.style.display =\n",
              "          google.colab.kernel.accessAllowed ? 'block' : 'none';\n",
              "\n",
              "        async function convertToInteractive(key) {\n",
              "          const element = document.querySelector('#df-db16d46d-c539-44f2-b50d-6db8f050c10f');\n",
              "          const dataTable =\n",
              "            await google.colab.kernel.invokeFunction('convertToInteractive',\n",
              "                                                     [key], {});\n",
              "          if (!dataTable) return;\n",
              "\n",
              "          const docLinkHtml = 'Like what you see? Visit the ' +\n",
              "            '<a target=\"_blank\" href=https://colab.research.google.com/notebooks/data_table.ipynb>data table notebook</a>'\n",
              "            + ' to learn more about interactive tables.';\n",
              "          element.innerHTML = '';\n",
              "          dataTable['output_type'] = 'display_data';\n",
              "          await google.colab.output.renderOutput(dataTable, element);\n",
              "          const docLink = document.createElement('div');\n",
              "          docLink.innerHTML = docLinkHtml;\n",
              "          element.appendChild(docLink);\n",
              "        }\n",
              "      </script>\n",
              "    </div>\n",
              "  </div>\n",
              "  "
            ]
          },
          "metadata": {},
          "execution_count": 7
        }
      ]
    },
    {
      "cell_type": "code",
      "metadata": {
        "trusted": true,
        "id": "7Jb3OUnblHxi",
        "colab": {
          "base_uri": "https://localhost:8080/",
          "height": 259
        },
        "outputId": "847bddd8-ec42-4364-c118-375506777435"
      },
      "source": [
        "print(\"Top Elements\\n\")\n",
        "df.head(3)"
      ],
      "execution_count": null,
      "outputs": [
        {
          "output_type": "stream",
          "name": "stdout",
          "text": [
            "Top Elements\n",
            "\n"
          ]
        },
        {
          "output_type": "execute_result",
          "data": {
            "text/plain": [
              "   Category  Alcohol  Malic acid   Ash  Alcalinity of ash  Magnesium  \\\n",
              "0         1    14.23        1.71  2.43               15.6        127   \n",
              "1         1    13.20        1.78  2.14               11.2        100   \n",
              "2         1    13.16        2.36  2.67               18.6        101   \n",
              "\n",
              "   Total phenols  Flavanoids  Nonflavanoid phenols  Proanthocyanins  \\\n",
              "0           2.80        3.06                  0.28             2.29   \n",
              "1           2.65        2.76                  0.26             1.28   \n",
              "2           2.80        3.24                  0.30             2.81   \n",
              "\n",
              "   Color intensity   Hue  OD280/OD315 of diluted wines  Proline   \n",
              "0             5.64  1.04                          3.92      1065  \n",
              "1             4.38  1.05                          3.40      1050  \n",
              "2             5.68  1.03                          3.17      1185  "
            ],
            "text/html": [
              "\n",
              "  <div id=\"df-11f883e9-6fb6-4ca9-89b0-a79e601b84ff\">\n",
              "    <div class=\"colab-df-container\">\n",
              "      <div>\n",
              "<style scoped>\n",
              "    .dataframe tbody tr th:only-of-type {\n",
              "        vertical-align: middle;\n",
              "    }\n",
              "\n",
              "    .dataframe tbody tr th {\n",
              "        vertical-align: top;\n",
              "    }\n",
              "\n",
              "    .dataframe thead th {\n",
              "        text-align: right;\n",
              "    }\n",
              "</style>\n",
              "<table border=\"1\" class=\"dataframe\">\n",
              "  <thead>\n",
              "    <tr style=\"text-align: right;\">\n",
              "      <th></th>\n",
              "      <th>Category</th>\n",
              "      <th>Alcohol</th>\n",
              "      <th>Malic acid</th>\n",
              "      <th>Ash</th>\n",
              "      <th>Alcalinity of ash</th>\n",
              "      <th>Magnesium</th>\n",
              "      <th>Total phenols</th>\n",
              "      <th>Flavanoids</th>\n",
              "      <th>Nonflavanoid phenols</th>\n",
              "      <th>Proanthocyanins</th>\n",
              "      <th>Color intensity</th>\n",
              "      <th>Hue</th>\n",
              "      <th>OD280/OD315 of diluted wines</th>\n",
              "      <th>Proline</th>\n",
              "    </tr>\n",
              "  </thead>\n",
              "  <tbody>\n",
              "    <tr>\n",
              "      <th>0</th>\n",
              "      <td>1</td>\n",
              "      <td>14.23</td>\n",
              "      <td>1.71</td>\n",
              "      <td>2.43</td>\n",
              "      <td>15.6</td>\n",
              "      <td>127</td>\n",
              "      <td>2.80</td>\n",
              "      <td>3.06</td>\n",
              "      <td>0.28</td>\n",
              "      <td>2.29</td>\n",
              "      <td>5.64</td>\n",
              "      <td>1.04</td>\n",
              "      <td>3.92</td>\n",
              "      <td>1065</td>\n",
              "    </tr>\n",
              "    <tr>\n",
              "      <th>1</th>\n",
              "      <td>1</td>\n",
              "      <td>13.20</td>\n",
              "      <td>1.78</td>\n",
              "      <td>2.14</td>\n",
              "      <td>11.2</td>\n",
              "      <td>100</td>\n",
              "      <td>2.65</td>\n",
              "      <td>2.76</td>\n",
              "      <td>0.26</td>\n",
              "      <td>1.28</td>\n",
              "      <td>4.38</td>\n",
              "      <td>1.05</td>\n",
              "      <td>3.40</td>\n",
              "      <td>1050</td>\n",
              "    </tr>\n",
              "    <tr>\n",
              "      <th>2</th>\n",
              "      <td>1</td>\n",
              "      <td>13.16</td>\n",
              "      <td>2.36</td>\n",
              "      <td>2.67</td>\n",
              "      <td>18.6</td>\n",
              "      <td>101</td>\n",
              "      <td>2.80</td>\n",
              "      <td>3.24</td>\n",
              "      <td>0.30</td>\n",
              "      <td>2.81</td>\n",
              "      <td>5.68</td>\n",
              "      <td>1.03</td>\n",
              "      <td>3.17</td>\n",
              "      <td>1185</td>\n",
              "    </tr>\n",
              "  </tbody>\n",
              "</table>\n",
              "</div>\n",
              "      <button class=\"colab-df-convert\" onclick=\"convertToInteractive('df-11f883e9-6fb6-4ca9-89b0-a79e601b84ff')\"\n",
              "              title=\"Convert this dataframe to an interactive table.\"\n",
              "              style=\"display:none;\">\n",
              "        \n",
              "  <svg xmlns=\"http://www.w3.org/2000/svg\" height=\"24px\"viewBox=\"0 0 24 24\"\n",
              "       width=\"24px\">\n",
              "    <path d=\"M0 0h24v24H0V0z\" fill=\"none\"/>\n",
              "    <path d=\"M18.56 5.44l.94 2.06.94-2.06 2.06-.94-2.06-.94-.94-2.06-.94 2.06-2.06.94zm-11 1L8.5 8.5l.94-2.06 2.06-.94-2.06-.94L8.5 2.5l-.94 2.06-2.06.94zm10 10l.94 2.06.94-2.06 2.06-.94-2.06-.94-.94-2.06-.94 2.06-2.06.94z\"/><path d=\"M17.41 7.96l-1.37-1.37c-.4-.4-.92-.59-1.43-.59-.52 0-1.04.2-1.43.59L10.3 9.45l-7.72 7.72c-.78.78-.78 2.05 0 2.83L4 21.41c.39.39.9.59 1.41.59.51 0 1.02-.2 1.41-.59l7.78-7.78 2.81-2.81c.8-.78.8-2.07 0-2.86zM5.41 20L4 18.59l7.72-7.72 1.47 1.35L5.41 20z\"/>\n",
              "  </svg>\n",
              "      </button>\n",
              "      \n",
              "  <style>\n",
              "    .colab-df-container {\n",
              "      display:flex;\n",
              "      flex-wrap:wrap;\n",
              "      gap: 12px;\n",
              "    }\n",
              "\n",
              "    .colab-df-convert {\n",
              "      background-color: #E8F0FE;\n",
              "      border: none;\n",
              "      border-radius: 50%;\n",
              "      cursor: pointer;\n",
              "      display: none;\n",
              "      fill: #1967D2;\n",
              "      height: 32px;\n",
              "      padding: 0 0 0 0;\n",
              "      width: 32px;\n",
              "    }\n",
              "\n",
              "    .colab-df-convert:hover {\n",
              "      background-color: #E2EBFA;\n",
              "      box-shadow: 0px 1px 2px rgba(60, 64, 67, 0.3), 0px 1px 3px 1px rgba(60, 64, 67, 0.15);\n",
              "      fill: #174EA6;\n",
              "    }\n",
              "\n",
              "    [theme=dark] .colab-df-convert {\n",
              "      background-color: #3B4455;\n",
              "      fill: #D2E3FC;\n",
              "    }\n",
              "\n",
              "    [theme=dark] .colab-df-convert:hover {\n",
              "      background-color: #434B5C;\n",
              "      box-shadow: 0px 1px 3px 1px rgba(0, 0, 0, 0.15);\n",
              "      filter: drop-shadow(0px 1px 2px rgba(0, 0, 0, 0.3));\n",
              "      fill: #FFFFFF;\n",
              "    }\n",
              "  </style>\n",
              "\n",
              "      <script>\n",
              "        const buttonEl =\n",
              "          document.querySelector('#df-11f883e9-6fb6-4ca9-89b0-a79e601b84ff button.colab-df-convert');\n",
              "        buttonEl.style.display =\n",
              "          google.colab.kernel.accessAllowed ? 'block' : 'none';\n",
              "\n",
              "        async function convertToInteractive(key) {\n",
              "          const element = document.querySelector('#df-11f883e9-6fb6-4ca9-89b0-a79e601b84ff');\n",
              "          const dataTable =\n",
              "            await google.colab.kernel.invokeFunction('convertToInteractive',\n",
              "                                                     [key], {});\n",
              "          if (!dataTable) return;\n",
              "\n",
              "          const docLinkHtml = 'Like what you see? Visit the ' +\n",
              "            '<a target=\"_blank\" href=https://colab.research.google.com/notebooks/data_table.ipynb>data table notebook</a>'\n",
              "            + ' to learn more about interactive tables.';\n",
              "          element.innerHTML = '';\n",
              "          dataTable['output_type'] = 'display_data';\n",
              "          await google.colab.output.renderOutput(dataTable, element);\n",
              "          const docLink = document.createElement('div');\n",
              "          docLink.innerHTML = docLinkHtml;\n",
              "          element.appendChild(docLink);\n",
              "        }\n",
              "      </script>\n",
              "    </div>\n",
              "  </div>\n",
              "  "
            ]
          },
          "metadata": {},
          "execution_count": 8
        }
      ]
    },
    {
      "cell_type": "code",
      "metadata": {
        "trusted": false,
        "id": "eXAnIc3plHxm",
        "colab": {
          "base_uri": "https://localhost:8080/",
          "height": 279
        },
        "outputId": "9c97989d-cdd0-4264-db67-038fac1f65a2"
      },
      "source": [
        "print(\"Bottom Elements\\n\")\n",
        "df.tail(3)"
      ],
      "execution_count": null,
      "outputs": [
        {
          "output_type": "stream",
          "name": "stdout",
          "text": [
            "Bottom Elements\n",
            "\n"
          ]
        },
        {
          "output_type": "execute_result",
          "data": {
            "text/plain": [
              "     Category  Alcohol  Malic acid   Ash  Alcalinity of ash  Magnesium  \\\n",
              "175         3    13.27        4.28  2.26               20.0        120   \n",
              "176         3    13.17        2.59  2.37               20.0        120   \n",
              "177         3    14.13        4.10  2.74               24.5         96   \n",
              "\n",
              "     Total phenols  Flavanoids  Nonflavanoid phenols  Proanthocyanins  \\\n",
              "175           1.59        0.69                  0.43             1.35   \n",
              "176           1.65        0.68                  0.53             1.46   \n",
              "177           2.05        0.76                  0.56             1.35   \n",
              "\n",
              "     Color intensity   Hue  OD280/OD315 of diluted wines  Proline   \n",
              "175             10.2  0.59                          1.56       835  \n",
              "176              9.3  0.60                          1.62       840  \n",
              "177              9.2  0.61                          1.60       560  "
            ],
            "text/html": [
              "\n",
              "  <div id=\"df-85b75e89-ca66-4386-8ad1-0ef5eae921cd\">\n",
              "    <div class=\"colab-df-container\">\n",
              "      <div>\n",
              "<style scoped>\n",
              "    .dataframe tbody tr th:only-of-type {\n",
              "        vertical-align: middle;\n",
              "    }\n",
              "\n",
              "    .dataframe tbody tr th {\n",
              "        vertical-align: top;\n",
              "    }\n",
              "\n",
              "    .dataframe thead th {\n",
              "        text-align: right;\n",
              "    }\n",
              "</style>\n",
              "<table border=\"1\" class=\"dataframe\">\n",
              "  <thead>\n",
              "    <tr style=\"text-align: right;\">\n",
              "      <th></th>\n",
              "      <th>Category</th>\n",
              "      <th>Alcohol</th>\n",
              "      <th>Malic acid</th>\n",
              "      <th>Ash</th>\n",
              "      <th>Alcalinity of ash</th>\n",
              "      <th>Magnesium</th>\n",
              "      <th>Total phenols</th>\n",
              "      <th>Flavanoids</th>\n",
              "      <th>Nonflavanoid phenols</th>\n",
              "      <th>Proanthocyanins</th>\n",
              "      <th>Color intensity</th>\n",
              "      <th>Hue</th>\n",
              "      <th>OD280/OD315 of diluted wines</th>\n",
              "      <th>Proline</th>\n",
              "    </tr>\n",
              "  </thead>\n",
              "  <tbody>\n",
              "    <tr>\n",
              "      <th>175</th>\n",
              "      <td>3</td>\n",
              "      <td>13.27</td>\n",
              "      <td>4.28</td>\n",
              "      <td>2.26</td>\n",
              "      <td>20.0</td>\n",
              "      <td>120</td>\n",
              "      <td>1.59</td>\n",
              "      <td>0.69</td>\n",
              "      <td>0.43</td>\n",
              "      <td>1.35</td>\n",
              "      <td>10.2</td>\n",
              "      <td>0.59</td>\n",
              "      <td>1.56</td>\n",
              "      <td>835</td>\n",
              "    </tr>\n",
              "    <tr>\n",
              "      <th>176</th>\n",
              "      <td>3</td>\n",
              "      <td>13.17</td>\n",
              "      <td>2.59</td>\n",
              "      <td>2.37</td>\n",
              "      <td>20.0</td>\n",
              "      <td>120</td>\n",
              "      <td>1.65</td>\n",
              "      <td>0.68</td>\n",
              "      <td>0.53</td>\n",
              "      <td>1.46</td>\n",
              "      <td>9.3</td>\n",
              "      <td>0.60</td>\n",
              "      <td>1.62</td>\n",
              "      <td>840</td>\n",
              "    </tr>\n",
              "    <tr>\n",
              "      <th>177</th>\n",
              "      <td>3</td>\n",
              "      <td>14.13</td>\n",
              "      <td>4.10</td>\n",
              "      <td>2.74</td>\n",
              "      <td>24.5</td>\n",
              "      <td>96</td>\n",
              "      <td>2.05</td>\n",
              "      <td>0.76</td>\n",
              "      <td>0.56</td>\n",
              "      <td>1.35</td>\n",
              "      <td>9.2</td>\n",
              "      <td>0.61</td>\n",
              "      <td>1.60</td>\n",
              "      <td>560</td>\n",
              "    </tr>\n",
              "  </tbody>\n",
              "</table>\n",
              "</div>\n",
              "      <button class=\"colab-df-convert\" onclick=\"convertToInteractive('df-85b75e89-ca66-4386-8ad1-0ef5eae921cd')\"\n",
              "              title=\"Convert this dataframe to an interactive table.\"\n",
              "              style=\"display:none;\">\n",
              "        \n",
              "  <svg xmlns=\"http://www.w3.org/2000/svg\" height=\"24px\"viewBox=\"0 0 24 24\"\n",
              "       width=\"24px\">\n",
              "    <path d=\"M0 0h24v24H0V0z\" fill=\"none\"/>\n",
              "    <path d=\"M18.56 5.44l.94 2.06.94-2.06 2.06-.94-2.06-.94-.94-2.06-.94 2.06-2.06.94zm-11 1L8.5 8.5l.94-2.06 2.06-.94-2.06-.94L8.5 2.5l-.94 2.06-2.06.94zm10 10l.94 2.06.94-2.06 2.06-.94-2.06-.94-.94-2.06-.94 2.06-2.06.94z\"/><path d=\"M17.41 7.96l-1.37-1.37c-.4-.4-.92-.59-1.43-.59-.52 0-1.04.2-1.43.59L10.3 9.45l-7.72 7.72c-.78.78-.78 2.05 0 2.83L4 21.41c.39.39.9.59 1.41.59.51 0 1.02-.2 1.41-.59l7.78-7.78 2.81-2.81c.8-.78.8-2.07 0-2.86zM5.41 20L4 18.59l7.72-7.72 1.47 1.35L5.41 20z\"/>\n",
              "  </svg>\n",
              "      </button>\n",
              "      \n",
              "  <style>\n",
              "    .colab-df-container {\n",
              "      display:flex;\n",
              "      flex-wrap:wrap;\n",
              "      gap: 12px;\n",
              "    }\n",
              "\n",
              "    .colab-df-convert {\n",
              "      background-color: #E8F0FE;\n",
              "      border: none;\n",
              "      border-radius: 50%;\n",
              "      cursor: pointer;\n",
              "      display: none;\n",
              "      fill: #1967D2;\n",
              "      height: 32px;\n",
              "      padding: 0 0 0 0;\n",
              "      width: 32px;\n",
              "    }\n",
              "\n",
              "    .colab-df-convert:hover {\n",
              "      background-color: #E2EBFA;\n",
              "      box-shadow: 0px 1px 2px rgba(60, 64, 67, 0.3), 0px 1px 3px 1px rgba(60, 64, 67, 0.15);\n",
              "      fill: #174EA6;\n",
              "    }\n",
              "\n",
              "    [theme=dark] .colab-df-convert {\n",
              "      background-color: #3B4455;\n",
              "      fill: #D2E3FC;\n",
              "    }\n",
              "\n",
              "    [theme=dark] .colab-df-convert:hover {\n",
              "      background-color: #434B5C;\n",
              "      box-shadow: 0px 1px 3px 1px rgba(0, 0, 0, 0.15);\n",
              "      filter: drop-shadow(0px 1px 2px rgba(0, 0, 0, 0.3));\n",
              "      fill: #FFFFFF;\n",
              "    }\n",
              "  </style>\n",
              "\n",
              "      <script>\n",
              "        const buttonEl =\n",
              "          document.querySelector('#df-85b75e89-ca66-4386-8ad1-0ef5eae921cd button.colab-df-convert');\n",
              "        buttonEl.style.display =\n",
              "          google.colab.kernel.accessAllowed ? 'block' : 'none';\n",
              "\n",
              "        async function convertToInteractive(key) {\n",
              "          const element = document.querySelector('#df-85b75e89-ca66-4386-8ad1-0ef5eae921cd');\n",
              "          const dataTable =\n",
              "            await google.colab.kernel.invokeFunction('convertToInteractive',\n",
              "                                                     [key], {});\n",
              "          if (!dataTable) return;\n",
              "\n",
              "          const docLinkHtml = 'Like what you see? Visit the ' +\n",
              "            '<a target=\"_blank\" href=https://colab.research.google.com/notebooks/data_table.ipynb>data table notebook</a>'\n",
              "            + ' to learn more about interactive tables.';\n",
              "          element.innerHTML = '';\n",
              "          dataTable['output_type'] = 'display_data';\n",
              "          await google.colab.output.renderOutput(dataTable, element);\n",
              "          const docLink = document.createElement('div');\n",
              "          docLink.innerHTML = docLinkHtml;\n",
              "          element.appendChild(docLink);\n",
              "        }\n",
              "      </script>\n",
              "    </div>\n",
              "  </div>\n",
              "  "
            ]
          },
          "metadata": {},
          "execution_count": 9
        }
      ]
    },
    {
      "cell_type": "code",
      "metadata": {
        "trusted": false,
        "id": "A2DTf1wXlHxp",
        "colab": {
          "base_uri": "https://localhost:8080/",
          "height": 460
        },
        "outputId": "6dfd8d48-2725-4d56-f4dc-1d9709fd786c"
      },
      "source": [
        "print(\"Specific Coloumn\\n\")\n",
        "df1= df[['Category','Alcohol']]\n",
        "df1"
      ],
      "execution_count": null,
      "outputs": [
        {
          "output_type": "stream",
          "name": "stdout",
          "text": [
            "Specific Coloumn\n",
            "\n"
          ]
        },
        {
          "output_type": "execute_result",
          "data": {
            "text/plain": [
              "     Category  Alcohol\n",
              "0           1    14.23\n",
              "1           1    13.20\n",
              "2           1    13.16\n",
              "3           1    14.37\n",
              "4           2    11.96\n",
              "..        ...      ...\n",
              "173         3    13.71\n",
              "174         3    13.40\n",
              "175         3    13.27\n",
              "176         3    13.17\n",
              "177         3    14.13\n",
              "\n",
              "[178 rows x 2 columns]"
            ],
            "text/html": [
              "\n",
              "  <div id=\"df-ecee7593-9c99-4e24-9d8f-4e3c05297b0e\">\n",
              "    <div class=\"colab-df-container\">\n",
              "      <div>\n",
              "<style scoped>\n",
              "    .dataframe tbody tr th:only-of-type {\n",
              "        vertical-align: middle;\n",
              "    }\n",
              "\n",
              "    .dataframe tbody tr th {\n",
              "        vertical-align: top;\n",
              "    }\n",
              "\n",
              "    .dataframe thead th {\n",
              "        text-align: right;\n",
              "    }\n",
              "</style>\n",
              "<table border=\"1\" class=\"dataframe\">\n",
              "  <thead>\n",
              "    <tr style=\"text-align: right;\">\n",
              "      <th></th>\n",
              "      <th>Category</th>\n",
              "      <th>Alcohol</th>\n",
              "    </tr>\n",
              "  </thead>\n",
              "  <tbody>\n",
              "    <tr>\n",
              "      <th>0</th>\n",
              "      <td>1</td>\n",
              "      <td>14.23</td>\n",
              "    </tr>\n",
              "    <tr>\n",
              "      <th>1</th>\n",
              "      <td>1</td>\n",
              "      <td>13.20</td>\n",
              "    </tr>\n",
              "    <tr>\n",
              "      <th>2</th>\n",
              "      <td>1</td>\n",
              "      <td>13.16</td>\n",
              "    </tr>\n",
              "    <tr>\n",
              "      <th>3</th>\n",
              "      <td>1</td>\n",
              "      <td>14.37</td>\n",
              "    </tr>\n",
              "    <tr>\n",
              "      <th>4</th>\n",
              "      <td>2</td>\n",
              "      <td>11.96</td>\n",
              "    </tr>\n",
              "    <tr>\n",
              "      <th>...</th>\n",
              "      <td>...</td>\n",
              "      <td>...</td>\n",
              "    </tr>\n",
              "    <tr>\n",
              "      <th>173</th>\n",
              "      <td>3</td>\n",
              "      <td>13.71</td>\n",
              "    </tr>\n",
              "    <tr>\n",
              "      <th>174</th>\n",
              "      <td>3</td>\n",
              "      <td>13.40</td>\n",
              "    </tr>\n",
              "    <tr>\n",
              "      <th>175</th>\n",
              "      <td>3</td>\n",
              "      <td>13.27</td>\n",
              "    </tr>\n",
              "    <tr>\n",
              "      <th>176</th>\n",
              "      <td>3</td>\n",
              "      <td>13.17</td>\n",
              "    </tr>\n",
              "    <tr>\n",
              "      <th>177</th>\n",
              "      <td>3</td>\n",
              "      <td>14.13</td>\n",
              "    </tr>\n",
              "  </tbody>\n",
              "</table>\n",
              "<p>178 rows × 2 columns</p>\n",
              "</div>\n",
              "      <button class=\"colab-df-convert\" onclick=\"convertToInteractive('df-ecee7593-9c99-4e24-9d8f-4e3c05297b0e')\"\n",
              "              title=\"Convert this dataframe to an interactive table.\"\n",
              "              style=\"display:none;\">\n",
              "        \n",
              "  <svg xmlns=\"http://www.w3.org/2000/svg\" height=\"24px\"viewBox=\"0 0 24 24\"\n",
              "       width=\"24px\">\n",
              "    <path d=\"M0 0h24v24H0V0z\" fill=\"none\"/>\n",
              "    <path d=\"M18.56 5.44l.94 2.06.94-2.06 2.06-.94-2.06-.94-.94-2.06-.94 2.06-2.06.94zm-11 1L8.5 8.5l.94-2.06 2.06-.94-2.06-.94L8.5 2.5l-.94 2.06-2.06.94zm10 10l.94 2.06.94-2.06 2.06-.94-2.06-.94-.94-2.06-.94 2.06-2.06.94z\"/><path d=\"M17.41 7.96l-1.37-1.37c-.4-.4-.92-.59-1.43-.59-.52 0-1.04.2-1.43.59L10.3 9.45l-7.72 7.72c-.78.78-.78 2.05 0 2.83L4 21.41c.39.39.9.59 1.41.59.51 0 1.02-.2 1.41-.59l7.78-7.78 2.81-2.81c.8-.78.8-2.07 0-2.86zM5.41 20L4 18.59l7.72-7.72 1.47 1.35L5.41 20z\"/>\n",
              "  </svg>\n",
              "      </button>\n",
              "      \n",
              "  <style>\n",
              "    .colab-df-container {\n",
              "      display:flex;\n",
              "      flex-wrap:wrap;\n",
              "      gap: 12px;\n",
              "    }\n",
              "\n",
              "    .colab-df-convert {\n",
              "      background-color: #E8F0FE;\n",
              "      border: none;\n",
              "      border-radius: 50%;\n",
              "      cursor: pointer;\n",
              "      display: none;\n",
              "      fill: #1967D2;\n",
              "      height: 32px;\n",
              "      padding: 0 0 0 0;\n",
              "      width: 32px;\n",
              "    }\n",
              "\n",
              "    .colab-df-convert:hover {\n",
              "      background-color: #E2EBFA;\n",
              "      box-shadow: 0px 1px 2px rgba(60, 64, 67, 0.3), 0px 1px 3px 1px rgba(60, 64, 67, 0.15);\n",
              "      fill: #174EA6;\n",
              "    }\n",
              "\n",
              "    [theme=dark] .colab-df-convert {\n",
              "      background-color: #3B4455;\n",
              "      fill: #D2E3FC;\n",
              "    }\n",
              "\n",
              "    [theme=dark] .colab-df-convert:hover {\n",
              "      background-color: #434B5C;\n",
              "      box-shadow: 0px 1px 3px 1px rgba(0, 0, 0, 0.15);\n",
              "      filter: drop-shadow(0px 1px 2px rgba(0, 0, 0, 0.3));\n",
              "      fill: #FFFFFF;\n",
              "    }\n",
              "  </style>\n",
              "\n",
              "      <script>\n",
              "        const buttonEl =\n",
              "          document.querySelector('#df-ecee7593-9c99-4e24-9d8f-4e3c05297b0e button.colab-df-convert');\n",
              "        buttonEl.style.display =\n",
              "          google.colab.kernel.accessAllowed ? 'block' : 'none';\n",
              "\n",
              "        async function convertToInteractive(key) {\n",
              "          const element = document.querySelector('#df-ecee7593-9c99-4e24-9d8f-4e3c05297b0e');\n",
              "          const dataTable =\n",
              "            await google.colab.kernel.invokeFunction('convertToInteractive',\n",
              "                                                     [key], {});\n",
              "          if (!dataTable) return;\n",
              "\n",
              "          const docLinkHtml = 'Like what you see? Visit the ' +\n",
              "            '<a target=\"_blank\" href=https://colab.research.google.com/notebooks/data_table.ipynb>data table notebook</a>'\n",
              "            + ' to learn more about interactive tables.';\n",
              "          element.innerHTML = '';\n",
              "          dataTable['output_type'] = 'display_data';\n",
              "          await google.colab.output.renderOutput(dataTable, element);\n",
              "          const docLink = document.createElement('div');\n",
              "          docLink.innerHTML = docLinkHtml;\n",
              "          element.appendChild(docLink);\n",
              "        }\n",
              "      </script>\n",
              "    </div>\n",
              "  </div>\n",
              "  "
            ]
          },
          "metadata": {},
          "execution_count": 10
        }
      ]
    },
    {
      "cell_type": "code",
      "metadata": {
        "trusted": false,
        "id": "e3fN1FpslHxr",
        "colab": {
          "base_uri": "https://localhost:8080/",
          "height": 559
        },
        "outputId": "2bb814a3-a5d0-423b-a9c9-3e1dc7eae690"
      },
      "source": [
        "print(\"Replace negative numbers with NaN\\n\")\n",
        "df.replace(-999,np.nan)"
      ],
      "execution_count": null,
      "outputs": [
        {
          "output_type": "stream",
          "name": "stdout",
          "text": [
            "Replace negative numbers with NaN\n",
            "\n"
          ]
        },
        {
          "output_type": "execute_result",
          "data": {
            "text/plain": [
              "     Category  Alcohol  Malic acid   Ash  Alcalinity of ash  Magnesium  \\\n",
              "0           1    14.23        1.71  2.43               15.6        127   \n",
              "1           1    13.20        1.78  2.14               11.2        100   \n",
              "2           1    13.16        2.36  2.67               18.6        101   \n",
              "3           1    14.37        1.95  2.50               16.8        113   \n",
              "4           2    11.96        1.09  2.30               21.0        101   \n",
              "..        ...      ...         ...   ...                ...        ...   \n",
              "173         3    13.71        5.65  2.45               20.5         95   \n",
              "174         3    13.40        3.91  2.48               23.0        102   \n",
              "175         3    13.27        4.28  2.26               20.0        120   \n",
              "176         3    13.17        2.59  2.37               20.0        120   \n",
              "177         3    14.13        4.10  2.74               24.5         96   \n",
              "\n",
              "     Total phenols  Flavanoids  Nonflavanoid phenols  Proanthocyanins  \\\n",
              "0             2.80        3.06                  0.28             2.29   \n",
              "1             2.65        2.76                  0.26             1.28   \n",
              "2             2.80        3.24                  0.30             2.81   \n",
              "3             3.85        3.49                  0.24             2.18   \n",
              "4             3.38        2.14                  0.13             1.65   \n",
              "..             ...         ...                   ...              ...   \n",
              "173           1.68        0.61                  0.52             1.06   \n",
              "174           1.80        0.75                  0.43             1.41   \n",
              "175           1.59        0.69                  0.43             1.35   \n",
              "176           1.65        0.68                  0.53             1.46   \n",
              "177           2.05        0.76                  0.56             1.35   \n",
              "\n",
              "     Color intensity   Hue  OD280/OD315 of diluted wines  Proline   \n",
              "0               5.64  1.04                          3.92      1065  \n",
              "1               4.38  1.05                          3.40      1050  \n",
              "2               5.68  1.03                          3.17      1185  \n",
              "3               7.80  0.86                          3.45      1480  \n",
              "4               3.21  0.99                          3.13       886  \n",
              "..               ...   ...                           ...       ...  \n",
              "173             7.70  0.64                          1.74       740  \n",
              "174             7.30  0.70                          1.56       750  \n",
              "175            10.20  0.59                          1.56       835  \n",
              "176             9.30  0.60                          1.62       840  \n",
              "177             9.20  0.61                          1.60       560  \n",
              "\n",
              "[178 rows x 14 columns]"
            ],
            "text/html": [
              "\n",
              "  <div id=\"df-f02897cf-1a8a-4010-8e32-e069dc046465\">\n",
              "    <div class=\"colab-df-container\">\n",
              "      <div>\n",
              "<style scoped>\n",
              "    .dataframe tbody tr th:only-of-type {\n",
              "        vertical-align: middle;\n",
              "    }\n",
              "\n",
              "    .dataframe tbody tr th {\n",
              "        vertical-align: top;\n",
              "    }\n",
              "\n",
              "    .dataframe thead th {\n",
              "        text-align: right;\n",
              "    }\n",
              "</style>\n",
              "<table border=\"1\" class=\"dataframe\">\n",
              "  <thead>\n",
              "    <tr style=\"text-align: right;\">\n",
              "      <th></th>\n",
              "      <th>Category</th>\n",
              "      <th>Alcohol</th>\n",
              "      <th>Malic acid</th>\n",
              "      <th>Ash</th>\n",
              "      <th>Alcalinity of ash</th>\n",
              "      <th>Magnesium</th>\n",
              "      <th>Total phenols</th>\n",
              "      <th>Flavanoids</th>\n",
              "      <th>Nonflavanoid phenols</th>\n",
              "      <th>Proanthocyanins</th>\n",
              "      <th>Color intensity</th>\n",
              "      <th>Hue</th>\n",
              "      <th>OD280/OD315 of diluted wines</th>\n",
              "      <th>Proline</th>\n",
              "    </tr>\n",
              "  </thead>\n",
              "  <tbody>\n",
              "    <tr>\n",
              "      <th>0</th>\n",
              "      <td>1</td>\n",
              "      <td>14.23</td>\n",
              "      <td>1.71</td>\n",
              "      <td>2.43</td>\n",
              "      <td>15.6</td>\n",
              "      <td>127</td>\n",
              "      <td>2.80</td>\n",
              "      <td>3.06</td>\n",
              "      <td>0.28</td>\n",
              "      <td>2.29</td>\n",
              "      <td>5.64</td>\n",
              "      <td>1.04</td>\n",
              "      <td>3.92</td>\n",
              "      <td>1065</td>\n",
              "    </tr>\n",
              "    <tr>\n",
              "      <th>1</th>\n",
              "      <td>1</td>\n",
              "      <td>13.20</td>\n",
              "      <td>1.78</td>\n",
              "      <td>2.14</td>\n",
              "      <td>11.2</td>\n",
              "      <td>100</td>\n",
              "      <td>2.65</td>\n",
              "      <td>2.76</td>\n",
              "      <td>0.26</td>\n",
              "      <td>1.28</td>\n",
              "      <td>4.38</td>\n",
              "      <td>1.05</td>\n",
              "      <td>3.40</td>\n",
              "      <td>1050</td>\n",
              "    </tr>\n",
              "    <tr>\n",
              "      <th>2</th>\n",
              "      <td>1</td>\n",
              "      <td>13.16</td>\n",
              "      <td>2.36</td>\n",
              "      <td>2.67</td>\n",
              "      <td>18.6</td>\n",
              "      <td>101</td>\n",
              "      <td>2.80</td>\n",
              "      <td>3.24</td>\n",
              "      <td>0.30</td>\n",
              "      <td>2.81</td>\n",
              "      <td>5.68</td>\n",
              "      <td>1.03</td>\n",
              "      <td>3.17</td>\n",
              "      <td>1185</td>\n",
              "    </tr>\n",
              "    <tr>\n",
              "      <th>3</th>\n",
              "      <td>1</td>\n",
              "      <td>14.37</td>\n",
              "      <td>1.95</td>\n",
              "      <td>2.50</td>\n",
              "      <td>16.8</td>\n",
              "      <td>113</td>\n",
              "      <td>3.85</td>\n",
              "      <td>3.49</td>\n",
              "      <td>0.24</td>\n",
              "      <td>2.18</td>\n",
              "      <td>7.80</td>\n",
              "      <td>0.86</td>\n",
              "      <td>3.45</td>\n",
              "      <td>1480</td>\n",
              "    </tr>\n",
              "    <tr>\n",
              "      <th>4</th>\n",
              "      <td>2</td>\n",
              "      <td>11.96</td>\n",
              "      <td>1.09</td>\n",
              "      <td>2.30</td>\n",
              "      <td>21.0</td>\n",
              "      <td>101</td>\n",
              "      <td>3.38</td>\n",
              "      <td>2.14</td>\n",
              "      <td>0.13</td>\n",
              "      <td>1.65</td>\n",
              "      <td>3.21</td>\n",
              "      <td>0.99</td>\n",
              "      <td>3.13</td>\n",
              "      <td>886</td>\n",
              "    </tr>\n",
              "    <tr>\n",
              "      <th>...</th>\n",
              "      <td>...</td>\n",
              "      <td>...</td>\n",
              "      <td>...</td>\n",
              "      <td>...</td>\n",
              "      <td>...</td>\n",
              "      <td>...</td>\n",
              "      <td>...</td>\n",
              "      <td>...</td>\n",
              "      <td>...</td>\n",
              "      <td>...</td>\n",
              "      <td>...</td>\n",
              "      <td>...</td>\n",
              "      <td>...</td>\n",
              "      <td>...</td>\n",
              "    </tr>\n",
              "    <tr>\n",
              "      <th>173</th>\n",
              "      <td>3</td>\n",
              "      <td>13.71</td>\n",
              "      <td>5.65</td>\n",
              "      <td>2.45</td>\n",
              "      <td>20.5</td>\n",
              "      <td>95</td>\n",
              "      <td>1.68</td>\n",
              "      <td>0.61</td>\n",
              "      <td>0.52</td>\n",
              "      <td>1.06</td>\n",
              "      <td>7.70</td>\n",
              "      <td>0.64</td>\n",
              "      <td>1.74</td>\n",
              "      <td>740</td>\n",
              "    </tr>\n",
              "    <tr>\n",
              "      <th>174</th>\n",
              "      <td>3</td>\n",
              "      <td>13.40</td>\n",
              "      <td>3.91</td>\n",
              "      <td>2.48</td>\n",
              "      <td>23.0</td>\n",
              "      <td>102</td>\n",
              "      <td>1.80</td>\n",
              "      <td>0.75</td>\n",
              "      <td>0.43</td>\n",
              "      <td>1.41</td>\n",
              "      <td>7.30</td>\n",
              "      <td>0.70</td>\n",
              "      <td>1.56</td>\n",
              "      <td>750</td>\n",
              "    </tr>\n",
              "    <tr>\n",
              "      <th>175</th>\n",
              "      <td>3</td>\n",
              "      <td>13.27</td>\n",
              "      <td>4.28</td>\n",
              "      <td>2.26</td>\n",
              "      <td>20.0</td>\n",
              "      <td>120</td>\n",
              "      <td>1.59</td>\n",
              "      <td>0.69</td>\n",
              "      <td>0.43</td>\n",
              "      <td>1.35</td>\n",
              "      <td>10.20</td>\n",
              "      <td>0.59</td>\n",
              "      <td>1.56</td>\n",
              "      <td>835</td>\n",
              "    </tr>\n",
              "    <tr>\n",
              "      <th>176</th>\n",
              "      <td>3</td>\n",
              "      <td>13.17</td>\n",
              "      <td>2.59</td>\n",
              "      <td>2.37</td>\n",
              "      <td>20.0</td>\n",
              "      <td>120</td>\n",
              "      <td>1.65</td>\n",
              "      <td>0.68</td>\n",
              "      <td>0.53</td>\n",
              "      <td>1.46</td>\n",
              "      <td>9.30</td>\n",
              "      <td>0.60</td>\n",
              "      <td>1.62</td>\n",
              "      <td>840</td>\n",
              "    </tr>\n",
              "    <tr>\n",
              "      <th>177</th>\n",
              "      <td>3</td>\n",
              "      <td>14.13</td>\n",
              "      <td>4.10</td>\n",
              "      <td>2.74</td>\n",
              "      <td>24.5</td>\n",
              "      <td>96</td>\n",
              "      <td>2.05</td>\n",
              "      <td>0.76</td>\n",
              "      <td>0.56</td>\n",
              "      <td>1.35</td>\n",
              "      <td>9.20</td>\n",
              "      <td>0.61</td>\n",
              "      <td>1.60</td>\n",
              "      <td>560</td>\n",
              "    </tr>\n",
              "  </tbody>\n",
              "</table>\n",
              "<p>178 rows × 14 columns</p>\n",
              "</div>\n",
              "      <button class=\"colab-df-convert\" onclick=\"convertToInteractive('df-f02897cf-1a8a-4010-8e32-e069dc046465')\"\n",
              "              title=\"Convert this dataframe to an interactive table.\"\n",
              "              style=\"display:none;\">\n",
              "        \n",
              "  <svg xmlns=\"http://www.w3.org/2000/svg\" height=\"24px\"viewBox=\"0 0 24 24\"\n",
              "       width=\"24px\">\n",
              "    <path d=\"M0 0h24v24H0V0z\" fill=\"none\"/>\n",
              "    <path d=\"M18.56 5.44l.94 2.06.94-2.06 2.06-.94-2.06-.94-.94-2.06-.94 2.06-2.06.94zm-11 1L8.5 8.5l.94-2.06 2.06-.94-2.06-.94L8.5 2.5l-.94 2.06-2.06.94zm10 10l.94 2.06.94-2.06 2.06-.94-2.06-.94-.94-2.06-.94 2.06-2.06.94z\"/><path d=\"M17.41 7.96l-1.37-1.37c-.4-.4-.92-.59-1.43-.59-.52 0-1.04.2-1.43.59L10.3 9.45l-7.72 7.72c-.78.78-.78 2.05 0 2.83L4 21.41c.39.39.9.59 1.41.59.51 0 1.02-.2 1.41-.59l7.78-7.78 2.81-2.81c.8-.78.8-2.07 0-2.86zM5.41 20L4 18.59l7.72-7.72 1.47 1.35L5.41 20z\"/>\n",
              "  </svg>\n",
              "      </button>\n",
              "      \n",
              "  <style>\n",
              "    .colab-df-container {\n",
              "      display:flex;\n",
              "      flex-wrap:wrap;\n",
              "      gap: 12px;\n",
              "    }\n",
              "\n",
              "    .colab-df-convert {\n",
              "      background-color: #E8F0FE;\n",
              "      border: none;\n",
              "      border-radius: 50%;\n",
              "      cursor: pointer;\n",
              "      display: none;\n",
              "      fill: #1967D2;\n",
              "      height: 32px;\n",
              "      padding: 0 0 0 0;\n",
              "      width: 32px;\n",
              "    }\n",
              "\n",
              "    .colab-df-convert:hover {\n",
              "      background-color: #E2EBFA;\n",
              "      box-shadow: 0px 1px 2px rgba(60, 64, 67, 0.3), 0px 1px 3px 1px rgba(60, 64, 67, 0.15);\n",
              "      fill: #174EA6;\n",
              "    }\n",
              "\n",
              "    [theme=dark] .colab-df-convert {\n",
              "      background-color: #3B4455;\n",
              "      fill: #D2E3FC;\n",
              "    }\n",
              "\n",
              "    [theme=dark] .colab-df-convert:hover {\n",
              "      background-color: #434B5C;\n",
              "      box-shadow: 0px 1px 3px 1px rgba(0, 0, 0, 0.15);\n",
              "      filter: drop-shadow(0px 1px 2px rgba(0, 0, 0, 0.3));\n",
              "      fill: #FFFFFF;\n",
              "    }\n",
              "  </style>\n",
              "\n",
              "      <script>\n",
              "        const buttonEl =\n",
              "          document.querySelector('#df-f02897cf-1a8a-4010-8e32-e069dc046465 button.colab-df-convert');\n",
              "        buttonEl.style.display =\n",
              "          google.colab.kernel.accessAllowed ? 'block' : 'none';\n",
              "\n",
              "        async function convertToInteractive(key) {\n",
              "          const element = document.querySelector('#df-f02897cf-1a8a-4010-8e32-e069dc046465');\n",
              "          const dataTable =\n",
              "            await google.colab.kernel.invokeFunction('convertToInteractive',\n",
              "                                                     [key], {});\n",
              "          if (!dataTable) return;\n",
              "\n",
              "          const docLinkHtml = 'Like what you see? Visit the ' +\n",
              "            '<a target=\"_blank\" href=https://colab.research.google.com/notebooks/data_table.ipynb>data table notebook</a>'\n",
              "            + ' to learn more about interactive tables.';\n",
              "          element.innerHTML = '';\n",
              "          dataTable['output_type'] = 'display_data';\n",
              "          await google.colab.output.renderOutput(dataTable, element);\n",
              "          const docLink = document.createElement('div');\n",
              "          docLink.innerHTML = docLinkHtml;\n",
              "          element.appendChild(docLink);\n",
              "        }\n",
              "      </script>\n",
              "    </div>\n",
              "  </div>\n",
              "  "
            ]
          },
          "metadata": {},
          "execution_count": 11
        }
      ]
    },
    {
      "cell_type": "markdown",
      "metadata": {
        "id": "FIxqV3YFlHxt"
      },
      "source": [
        "## Matplotlib"
      ]
    },
    {
      "cell_type": "code",
      "metadata": {
        "trusted": true,
        "id": "iJHf1WoqlHxu"
      },
      "source": [
        "import matplotlib.pyplot as plt\n",
        "#import matplotlib.mlab as mlab"
      ],
      "execution_count": null,
      "outputs": []
    },
    {
      "cell_type": "markdown",
      "metadata": {
        "id": "5KIx1PyPlHxx"
      },
      "source": [
        "### Line Plot"
      ]
    },
    {
      "cell_type": "code",
      "metadata": {
        "scrolled": true,
        "trusted": true,
        "id": "_aVADwd7lHxz",
        "colab": {
          "base_uri": "https://localhost:8080/",
          "height": 279
        },
        "outputId": "1799d853-2cad-4092-e8bd-99727208dcdd"
      },
      "source": [
        "# Line plot\n",
        "plt.plot([1,2,3,4],[3,4,5,6])\n",
        "plt.xlabel('some numbers')\n",
        "plt.ylabel('some numbers')\n",
        "plt.show()"
      ],
      "execution_count": null,
      "outputs": [
        {
          "output_type": "display_data",
          "data": {
            "text/plain": [
              "<Figure size 432x288 with 1 Axes>"
            ],
            "image/png": "[encoded data removed]"
          },
          "metadata": {
            "needs_background": "light"
          }
        }
      ]
    },
    {
      "cell_type": "code",
      "metadata": {
        "trusted": false,
        "id": "8p-GQ5lGlHx2",
        "colab": {
          "base_uri": "https://localhost:8080/",
          "height": 295
        },
        "outputId": "9889e8e2-2181-4798-a773-5e3353a55d09"
      },
      "source": [
        "### Adding elements to line plots\n",
        "t = np.arange(0.0, 2.0, 0.01) # Generate equally space numbers between 0 and 2\n",
        "s = 1 + np.sin(2*np.pi*t)  # Apply sin function to the random numbers\n",
        "plt.plot(t, s)\n",
        "\n",
        "plt.xlabel('time (s)')\n",
        "plt.ylabel('voltage (mV)')\n",
        "plt.title('About as simple as it gets, folks')\n",
        "plt.grid(True)\n",
        "plt.savefig(\"test.png\") # Save a plot. Check the directory\n",
        "plt.show()"
      ],
      "execution_count": null,
      "outputs": [
        {
          "output_type": "display_data",
          "data": {
            "image/png": "[encoded data removed]",
            "text/plain": [
              "<Figure size 432x288 with 1 Axes>"
            ]
          },
          "metadata": {
            "tags": []
          }
        }
      ]
    },
    {
      "cell_type": "markdown",
      "metadata": {
        "id": "_OWtDgePlHx4"
      },
      "source": [
        "### Bar Plot"
      ]
    },
    {
      "cell_type": "code",
      "metadata": {
        "trusted": false,
        "id": "lZZ-FB0DlHx4",
        "outputId": "905c6e03-e5e7-4b29-826a-b653f14d0eed",
        "colab": {
          "base_uri": "https://localhost:8080/",
          "height": 265
        }
      },
      "source": [
        "y = [3, 10, 7, 5, 3, 4.5, 6, 8.1]\n",
        "x = range(len(y))\n",
        "width = 1/1.5\n",
        "plt.bar(x, y, width, color=\"blue\")\n",
        "plt.show()"
      ],
      "execution_count": null,
      "outputs": [
        {
          "output_type": "display_data",
          "data": {
            "text/plain": [
              "<Figure size 432x288 with 1 Axes>"
            ],
            "image/png": "[encoded data removed]"
          },
          "metadata": {
            "needs_background": "light"
          }
        }
      ]
    },
    {
      "cell_type": "markdown",
      "metadata": {
        "id": "74PZ2JxilHx8"
      },
      "source": [
        "### Scatter Plot"
      ]
    },
    {
      "cell_type": "code",
      "metadata": {
        "scrolled": true,
        "trusted": false,
        "id": "BVj5Ex0clHx8",
        "outputId": "5e2f4e7c-e4f6-4183-9e6b-ce7504ed9803"
      },
      "source": [
        "N = 50\n",
        "# Generate random numbers\n",
        "x = np.random.rand(N)\n",
        "y = np.random.rand(N)\n",
        "colors = np.random.rand(N)\n",
        "area = np.pi * (15 * np.random.rand(N))**2  # 0 to 15 point radii\n",
        "\n",
        "plt.scatter(x, y, s=area, c=colors, alpha=0.5)\n",
        "plt.show()"
      ],
      "execution_count": null,
      "outputs": [
        {
          "output_type": "display_data",
          "data": {
            "image/png": "[encoded data removed]",
            "text/plain": [
              "<matplotlib.figure.Figure at 0x2095e50c9b0>"
            ]
          },
          "metadata": {
            "tags": []
          }
        }
      ]
    },
    {
      "cell_type": "markdown",
      "metadata": {
        "id": "2yA5LgNdlHyC"
      },
      "source": [
        "### Histogram"
      ]
    },
    {
      "cell_type": "code",
      "metadata": {
        "scrolled": true,
        "trusted": false,
        "id": "Xr6Io2XQlHyD",
        "outputId": "07df4de1-4e2a-4938-a52f-acd6bc1b74ab",
        "colab": {
          "base_uri": "https://localhost:8080/",
          "height": 297
        }
      },
      "source": [
        "from scipy.stats import norm\n",
        "mu, sigma = 100, 15\n",
        "x = mu + sigma*np.random.randn(10000) # Generate random values with some distribution\n",
        "\n",
        "# the histogram of the data\n",
        "n, bins, patches = plt.hist(x, 50, density=True, facecolor='green', alpha=0.75)\n",
        "\n",
        "# add a 'best fit' line\n",
        "y = norm.pdf( bins, mu, sigma)\n",
        "\n",
        "l = plt.plot(bins, y, 'r--', linewidth=1)\n",
        "\n",
        "plt.xlabel('Smarts')\n",
        "plt.ylabel('Probability')\n",
        "plt.title(r'$\\mathrm{Histogram\\ of\\ IQ:}\\ \\mu=100,\\ \\sigma=15$')\n",
        "plt.axis([40, 160, 0, 0.03])\n",
        "plt.grid(True)\n",
        "\n",
        "plt.show()"
      ],
      "execution_count": null,
      "outputs": [
        {
          "output_type": "display_data",
          "data": {
            "text/plain": [
              "<Figure size 432x288 with 1 Axes>"
            ],
            "image/png": "[encoded data removed]"
          },
          "metadata": {
            "needs_background": "light"
          }
        }
      ]
    },
    {
      "cell_type": "markdown",
      "metadata": {
        "id": "XGk9Z2DolHyH"
      },
      "source": [
        "### Pie Chart"
      ]
    },
    {
      "cell_type": "code",
      "metadata": {
        "trusted": false,
        "id": "oziRfE_elHyI",
        "outputId": "79a70c33-f2a3-4fd9-da76-f782de415d4d",
        "colab": {
          "base_uri": "https://localhost:8080/",
          "height": 248
        }
      },
      "source": [
        "# Pie chart, where the slices will be ordered and plotted counter-clockwise:\n",
        "labels = 'Frogs', 'Hogs', 'Dogs', 'Logs'\n",
        "sizes = [15, 30, 45, 10]\n",
        "explode = (0, 0.1, 0, 0)  # only \"explode\" the 2nd slice (i.e. 'Hogs')\n",
        "\n",
        "fig1, ax1 = plt.subplots()\n",
        "ax1.pie(sizes, explode=explode, labels=labels, autopct='%1.1f%%',\n",
        "        shadow=True, startangle=90)\n",
        "ax1.axis('equal')  # Equal aspect ratio ensures that pie is drawn as a circle.\n",
        "\n",
        "plt.show()"
      ],
      "execution_count": null,
      "outputs": [
        {
          "output_type": "display_data",
          "data": {
            "text/plain": [
              "<Figure size 432x288 with 1 Axes>"
            ],
            "image/png": "[encoded data removed]"
          },
          "metadata": {}
        }
      ]
    },
    {
      "cell_type": "code",
      "source": [],
      "metadata": {
        "id": "0iwVmpBfLn0B"
      },
      "execution_count": null,
      "outputs": []
    }
  ]
}